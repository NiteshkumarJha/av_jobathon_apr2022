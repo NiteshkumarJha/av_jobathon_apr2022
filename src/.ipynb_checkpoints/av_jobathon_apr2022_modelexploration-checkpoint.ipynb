{
 "cells": [
  {
   "cell_type": "markdown",
   "id": "cef926fa-e5d5-424e-968d-43a837c1d4b0",
   "metadata": {},
   "source": [
    "# <a name=\"0\">Analytics vidhya - Jobathon - Apr 2022</a>\n",
    "\n",
    "In this notebook, we are performing initial data investigations to discover patterns, spot anomalies, and look for insights to inform later ML modeling choices.\n",
    "\n",
    "1. <a href=\"#1\">Read the dataset</a>\n",
    "2. <a href=\"#2\">Glimpse of dataset</a>\n",
    "3. <a href=\"#3\">Data preprocessing</a> \n",
    "4. <a href=\"#4\">Univariate analysis</a> \n",
    "5. <a href=\"#5\">Model building</a> \n",
    "6. <a href=\"#6\">Final model</a> \n",
    "7. <a href=\"#7\">Creating submission file</a>\n",
    "\n",
    "__Problem Statement__\n",
    "\n",
    "ABC is a car rental company based out of Bangalore. It rents cars for both in and out stations at affordable prices. The users can rent different types of cars like Sedans, Hatchbacks, SUVs and MUVs, Minivans and so on.\n",
    "\n",
    "In recent times, the demand for cars is on the rise. As a result, the company would like to tackle the problem of supply and demand. The ultimate goal of the company is to strike the balance between the supply and demand inorder to meet the user expectations. \n",
    "\n",
    "The company has collected the details of each rental. Based on the past data, the company would like to forecast the demand of car rentals on an hourly basis. \n",
    "\n",
    "__Objective__\n",
    "\n",
    "The main objective of the problem is to develop the machine learning approach to forecast the demand of car rentals on an hourly basis.\n",
    "\n",
    "\n",
    "__Dataset schema:__ \n",
    "\n",
    "__train.csv__\n",
    "\n",
    "It contains the hourly demand of car rentals from August 2018 to February 2021.\n",
    "\n",
    "|Variable|Description|\n",
    "|:-------:|:--------:|\n",
    "|date|Date (yyyy-mm-dd)|\n",
    "|hour|Hour of the day|\n",
    "|demand|No. of car rentals in a hour|\n",
    " \n",
    "\n",
    "__test.csv__\n",
    "\n",
    "**test.csv** contains only 2 variables: date and hour. We need to predict the hourly demand of car rentals for the next 1 year i.e. from March 2021 to March 2022.\n",
    "\n",
    "|Variable|Description|\n",
    "|:-------:|:--------:|\n",
    "|date|Date (yyyy-mm-dd)|\n",
    "|hour|Hour of the day|\n",
    "\n",
    "__Evaluation metric__\n",
    "\n",
    "The evaluation metric for this hackathon is RMSE score.\n",
    "\n",
    "$$RMSE = \\sqrt{\\frac{1}{n} * \\sum{(y_i - \\hat{y})}^2}$$\n",
    "\n",
    "where.\n",
    "\n",
    " + $y_i$ is true value,\n",
    " + $\\hat{y}$ is predicted value, and "
   ]
  },
  {
   "cell_type": "markdown",
   "id": "34d069ae-0273-48d3-8ae6-e01dd60bfd08",
   "metadata": {},
   "source": [
    "## 1. <a name=\"1\">Read the dataset</a>\n",
    "(<a href=\"#0\">Go to top</a>)\n",
    "\n",
    "Let's read the dataset into a dataframe, using Pandas."
   ]
  },
  {
   "cell_type": "code",
   "execution_count": 39,
   "id": "fa6e2a02-3c9c-43a8-a507-bbf4b1cd7001",
   "metadata": {},
   "outputs": [],
   "source": [
    "# importing libraries\n",
    "import pandas as pd\n",
    "import numpy as np\n",
    "import matplotlib.pyplot as plt\n",
    "import seaborn as sns\n",
    "from scipy import stats\n",
    "\n",
    "import warnings\n",
    "warnings.filterwarnings(\"ignore\")"
   ]
  },
  {
   "cell_type": "code",
   "execution_count": 40,
   "id": "fcce0ea6-53e7-42b2-a041-a23bdc8c56a1",
   "metadata": {},
   "outputs": [],
   "source": [
    "# Setting pandas options for good visualization\n",
    "pd.set_option('display.max_rows', 50)\n",
    "pd.set_option('display.max_columns', 100)\n",
    "pd.set_option('display.precision', 4)\n",
    "pd.set_option('display.float_format',  '{:,.2f}'.format)\n",
    "pd.set_option('display.max_info_columns', 30)\n",
    "\n",
    "# seaborn style for chart visualization\n",
    "sns.set_style(\"whitegrid\")"
   ]
  },
  {
   "cell_type": "code",
   "execution_count": 41,
   "id": "b79f265d-2b2f-469b-a567-d33d8d135120",
   "metadata": {},
   "outputs": [
    {
     "name": "stdout",
     "output_type": "stream",
     "text": [
      "The shape of the train dataset is: (18247, 3)\n",
      "The shape of the test dataset is: (7650, 2)\n"
     ]
    }
   ],
   "source": [
    "# Loading dataset\n",
    "train = pd.read_csv('../data/train_E1GspfA.csv')\n",
    "test = pd.read_csv('../data/test_6QvDdzb.csv')\n",
    "\n",
    "print('The shape of the train dataset is:', train.shape)\n",
    "print('The shape of the test dataset is:', test.shape)"
   ]
  },
  {
   "cell_type": "markdown",
   "id": "6f2544a1-128b-46fa-8ad7-63763ff33715",
   "metadata": {},
   "source": [
    "## 2. <a name=\"2\">Glimpse of dataset</a>\n",
    "(<a href=\"#0\">Go to top</a>)\n",
    "\n",
    "We will look at number of rows, columns and some simple statistics of the dataset."
   ]
  },
  {
   "cell_type": "code",
   "execution_count": 42,
   "id": "36d71fe5-4ff6-4df9-9d4f-dbae552f888f",
   "metadata": {},
   "outputs": [
    {
     "data": {
      "text/html": [
       "<div>\n",
       "<style scoped>\n",
       "    .dataframe tbody tr th:only-of-type {\n",
       "        vertical-align: middle;\n",
       "    }\n",
       "\n",
       "    .dataframe tbody tr th {\n",
       "        vertical-align: top;\n",
       "    }\n",
       "\n",
       "    .dataframe thead th {\n",
       "        text-align: right;\n",
       "    }\n",
       "</style>\n",
       "<table border=\"1\" class=\"dataframe\">\n",
       "  <thead>\n",
       "    <tr style=\"text-align: right;\">\n",
       "      <th></th>\n",
       "      <th>date</th>\n",
       "      <th>hour</th>\n",
       "      <th>demand</th>\n",
       "    </tr>\n",
       "  </thead>\n",
       "  <tbody>\n",
       "    <tr>\n",
       "      <th>0</th>\n",
       "      <td>2018-08-18</td>\n",
       "      <td>9</td>\n",
       "      <td>91</td>\n",
       "    </tr>\n",
       "    <tr>\n",
       "      <th>1</th>\n",
       "      <td>2018-08-18</td>\n",
       "      <td>10</td>\n",
       "      <td>21</td>\n",
       "    </tr>\n",
       "    <tr>\n",
       "      <th>2</th>\n",
       "      <td>2018-08-18</td>\n",
       "      <td>13</td>\n",
       "      <td>23</td>\n",
       "    </tr>\n",
       "    <tr>\n",
       "      <th>3</th>\n",
       "      <td>2018-08-18</td>\n",
       "      <td>14</td>\n",
       "      <td>104</td>\n",
       "    </tr>\n",
       "    <tr>\n",
       "      <th>4</th>\n",
       "      <td>2018-08-18</td>\n",
       "      <td>15</td>\n",
       "      <td>81</td>\n",
       "    </tr>\n",
       "  </tbody>\n",
       "</table>\n",
       "</div>"
      ],
      "text/plain": [
       "         date  hour  demand\n",
       "0  2018-08-18     9      91\n",
       "1  2018-08-18    10      21\n",
       "2  2018-08-18    13      23\n",
       "3  2018-08-18    14     104\n",
       "4  2018-08-18    15      81"
      ]
     },
     "execution_count": 42,
     "metadata": {},
     "output_type": "execute_result"
    }
   ],
   "source": [
    "# top 5 rows - train\n",
    "train.head()"
   ]
  },
  {
   "cell_type": "code",
   "execution_count": 43,
   "id": "6f233e9b-bab6-4303-ac5c-548752287273",
   "metadata": {},
   "outputs": [
    {
     "data": {
      "text/html": [
       "<div>\n",
       "<style scoped>\n",
       "    .dataframe tbody tr th:only-of-type {\n",
       "        vertical-align: middle;\n",
       "    }\n",
       "\n",
       "    .dataframe tbody tr th {\n",
       "        vertical-align: top;\n",
       "    }\n",
       "\n",
       "    .dataframe thead th {\n",
       "        text-align: right;\n",
       "    }\n",
       "</style>\n",
       "<table border=\"1\" class=\"dataframe\">\n",
       "  <thead>\n",
       "    <tr style=\"text-align: right;\">\n",
       "      <th></th>\n",
       "      <th>date</th>\n",
       "      <th>hour</th>\n",
       "    </tr>\n",
       "  </thead>\n",
       "  <tbody>\n",
       "    <tr>\n",
       "      <th>0</th>\n",
       "      <td>2021-03-01</td>\n",
       "      <td>0</td>\n",
       "    </tr>\n",
       "    <tr>\n",
       "      <th>1</th>\n",
       "      <td>2021-03-01</td>\n",
       "      <td>1</td>\n",
       "    </tr>\n",
       "    <tr>\n",
       "      <th>2</th>\n",
       "      <td>2021-03-01</td>\n",
       "      <td>2</td>\n",
       "    </tr>\n",
       "    <tr>\n",
       "      <th>3</th>\n",
       "      <td>2021-03-01</td>\n",
       "      <td>3</td>\n",
       "    </tr>\n",
       "    <tr>\n",
       "      <th>4</th>\n",
       "      <td>2021-03-01</td>\n",
       "      <td>5</td>\n",
       "    </tr>\n",
       "  </tbody>\n",
       "</table>\n",
       "</div>"
      ],
      "text/plain": [
       "         date  hour\n",
       "0  2021-03-01     0\n",
       "1  2021-03-01     1\n",
       "2  2021-03-01     2\n",
       "3  2021-03-01     3\n",
       "4  2021-03-01     5"
      ]
     },
     "execution_count": 43,
     "metadata": {},
     "output_type": "execute_result"
    }
   ],
   "source": [
    "# top 5 rows - test\n",
    "test.head()"
   ]
  },
  {
   "cell_type": "code",
   "execution_count": 44,
   "id": "df662ea8-da62-493f-8f95-1aab43bf4e2d",
   "metadata": {},
   "outputs": [
    {
     "name": "stdout",
     "output_type": "stream",
     "text": [
      "<class 'pandas.core.frame.DataFrame'>\n",
      "RangeIndex: 18247 entries, 0 to 18246\n",
      "Data columns (total 3 columns):\n",
      " #   Column  Non-Null Count  Dtype \n",
      "---  ------  --------------  ----- \n",
      " 0   date    18247 non-null  object\n",
      " 1   hour    18247 non-null  int64 \n",
      " 2   demand  18247 non-null  int64 \n",
      "dtypes: int64(2), object(1)\n",
      "memory usage: 427.8+ KB\n"
     ]
    }
   ],
   "source": [
    "# Let's see the data types and non-null values for each column\n",
    "train.info()"
   ]
  },
  {
   "cell_type": "code",
   "execution_count": 45,
   "id": "146a6706-b743-43ff-901c-972cd5866a3f",
   "metadata": {},
   "outputs": [
    {
     "name": "stdout",
     "output_type": "stream",
     "text": [
      "Index(['date', 'hour', 'demand'], dtype='object')\n"
     ]
    }
   ],
   "source": [
    "# columns names\n",
    "print(train.columns)"
   ]
  },
  {
   "cell_type": "code",
   "execution_count": 46,
   "id": "4eec775f-64b7-410e-9269-7415683f92d2",
   "metadata": {},
   "outputs": [
    {
     "data": {
      "text/plain": [
       "date      895\n",
       "hour       24\n",
       "demand    296\n",
       "dtype: int64"
      ]
     },
     "execution_count": 46,
     "metadata": {},
     "output_type": "execute_result"
    }
   ],
   "source": [
    "# unique values by rach feature\n",
    "train.nunique()"
   ]
  },
  {
   "cell_type": "code",
   "execution_count": 47,
   "id": "fd636a14-74c8-4dcf-8612-477f4b0ef26e",
   "metadata": {},
   "outputs": [
    {
     "data": {
      "text/plain": [
       "date      0\n",
       "hour      0\n",
       "demand    0\n",
       "dtype: int64"
      ]
     },
     "execution_count": 47,
     "metadata": {},
     "output_type": "execute_result"
    }
   ],
   "source": [
    "# missing % information\n",
    "train.isnull().sum()"
   ]
  },
  {
   "cell_type": "markdown",
   "id": "f591ff3b-46db-4a88-8f49-336f984711d4",
   "metadata": {},
   "source": [
    "## 3. <a name=\"3\">Data preprocessing</a>\n",
    "(<a href=\"#0\">Go to top</a>)\n",
    "\n",
    "Let's create training data with 0 demand as well."
   ]
  },
  {
   "cell_type": "code",
   "execution_count": 48,
   "id": "6b7eba75-260d-4ce8-80d9-c2f645d8da14",
   "metadata": {},
   "outputs": [],
   "source": [
    "# data preprocessing - train\n",
    "# creating unique list of date and hour\n",
    "date = pd.DataFrame(train[\"date\"].unique().tolist(),columns=[\"date\"])\n",
    "hour = pd.DataFrame(train[\"hour\"].unique().tolist(),columns=[\"hour\"])\n",
    "\n",
    "date['key'] = 1\n",
    "hour['key'] = 1\n",
    "\n",
    "train_new = date.merge(hour, on='key').drop('key', 1)\n",
    "train_new = train_new.sort_values(by = [\"date\", \"hour\"])\n",
    "\n",
    "# merging demand from training data\n",
    "train_new = train_new.merge(train,on=[\"date\",\"hour\"], how = \"left\")\n",
    "\n",
    "# imputing missing demand with zero demand\n",
    "train_new[\"demand\"] = train_new[\"demand\"].fillna(0).astype(int)\n",
    "\n",
    "# crating datetime column\n",
    "train_new[\"date_pd\"] = pd.to_datetime(train_new[\"date\"])\n",
    "train_new[\"year\"] = train_new[\"date_pd\"].dt.year\n",
    "train_new[\"month\"] = train_new[\"date_pd\"].dt.month\n",
    "train_new[\"day\"] = train_new[\"date_pd\"].dt.day\n",
    "\n",
    "train_new[\"datetime\"] = pd.to_datetime(train_new[[\"year\", \"month\", \"day\", \"hour\"]])\n",
    "\n",
    "# keeping only datetime and demand column\n",
    "train_new = train_new[[\"datetime\", \"demand\"]]"
   ]
  },
  {
   "cell_type": "code",
   "execution_count": 49,
   "id": "a00463f3-d000-4b23-b0d4-477af4dc7aa4",
   "metadata": {},
   "outputs": [
    {
     "data": {
      "text/html": [
       "<div>\n",
       "<style scoped>\n",
       "    .dataframe tbody tr th:only-of-type {\n",
       "        vertical-align: middle;\n",
       "    }\n",
       "\n",
       "    .dataframe tbody tr th {\n",
       "        vertical-align: top;\n",
       "    }\n",
       "\n",
       "    .dataframe thead th {\n",
       "        text-align: right;\n",
       "    }\n",
       "</style>\n",
       "<table border=\"1\" class=\"dataframe\">\n",
       "  <thead>\n",
       "    <tr style=\"text-align: right;\">\n",
       "      <th></th>\n",
       "      <th>datetime</th>\n",
       "      <th>demand</th>\n",
       "      <th>Year</th>\n",
       "      <th>Month</th>\n",
       "      <th>Day</th>\n",
       "      <th>Hour</th>\n",
       "      <th>Week_of_year</th>\n",
       "      <th>Weekend</th>\n",
       "      <th>Month_Start</th>\n",
       "      <th>Month_End</th>\n",
       "      <th>Quarter_Start</th>\n",
       "      <th>Quarter_End</th>\n",
       "      <th>Year_Start</th>\n",
       "      <th>Year_End</th>\n",
       "      <th>Day_of_week_0</th>\n",
       "      <th>Day_of_week_1</th>\n",
       "      <th>Day_of_week_2</th>\n",
       "      <th>Day_of_week_3</th>\n",
       "      <th>Day_of_week_4</th>\n",
       "      <th>Day_of_week_5</th>\n",
       "      <th>Day_of_week_6</th>\n",
       "    </tr>\n",
       "  </thead>\n",
       "  <tbody>\n",
       "    <tr>\n",
       "      <th>0</th>\n",
       "      <td>2018-08-18 00:00:00</td>\n",
       "      <td>0</td>\n",
       "      <td>2018</td>\n",
       "      <td>8</td>\n",
       "      <td>18</td>\n",
       "      <td>0</td>\n",
       "      <td>33</td>\n",
       "      <td>1</td>\n",
       "      <td>0</td>\n",
       "      <td>0</td>\n",
       "      <td>0</td>\n",
       "      <td>0</td>\n",
       "      <td>0</td>\n",
       "      <td>0</td>\n",
       "      <td>0</td>\n",
       "      <td>0</td>\n",
       "      <td>0</td>\n",
       "      <td>0</td>\n",
       "      <td>0</td>\n",
       "      <td>1</td>\n",
       "      <td>0</td>\n",
       "    </tr>\n",
       "    <tr>\n",
       "      <th>1</th>\n",
       "      <td>2018-08-18 01:00:00</td>\n",
       "      <td>0</td>\n",
       "      <td>2018</td>\n",
       "      <td>8</td>\n",
       "      <td>18</td>\n",
       "      <td>1</td>\n",
       "      <td>33</td>\n",
       "      <td>1</td>\n",
       "      <td>0</td>\n",
       "      <td>0</td>\n",
       "      <td>0</td>\n",
       "      <td>0</td>\n",
       "      <td>0</td>\n",
       "      <td>0</td>\n",
       "      <td>0</td>\n",
       "      <td>0</td>\n",
       "      <td>0</td>\n",
       "      <td>0</td>\n",
       "      <td>0</td>\n",
       "      <td>1</td>\n",
       "      <td>0</td>\n",
       "    </tr>\n",
       "    <tr>\n",
       "      <th>2</th>\n",
       "      <td>2018-08-18 02:00:00</td>\n",
       "      <td>0</td>\n",
       "      <td>2018</td>\n",
       "      <td>8</td>\n",
       "      <td>18</td>\n",
       "      <td>2</td>\n",
       "      <td>33</td>\n",
       "      <td>1</td>\n",
       "      <td>0</td>\n",
       "      <td>0</td>\n",
       "      <td>0</td>\n",
       "      <td>0</td>\n",
       "      <td>0</td>\n",
       "      <td>0</td>\n",
       "      <td>0</td>\n",
       "      <td>0</td>\n",
       "      <td>0</td>\n",
       "      <td>0</td>\n",
       "      <td>0</td>\n",
       "      <td>1</td>\n",
       "      <td>0</td>\n",
       "    </tr>\n",
       "    <tr>\n",
       "      <th>3</th>\n",
       "      <td>2018-08-18 03:00:00</td>\n",
       "      <td>0</td>\n",
       "      <td>2018</td>\n",
       "      <td>8</td>\n",
       "      <td>18</td>\n",
       "      <td>3</td>\n",
       "      <td>33</td>\n",
       "      <td>1</td>\n",
       "      <td>0</td>\n",
       "      <td>0</td>\n",
       "      <td>0</td>\n",
       "      <td>0</td>\n",
       "      <td>0</td>\n",
       "      <td>0</td>\n",
       "      <td>0</td>\n",
       "      <td>0</td>\n",
       "      <td>0</td>\n",
       "      <td>0</td>\n",
       "      <td>0</td>\n",
       "      <td>1</td>\n",
       "      <td>0</td>\n",
       "    </tr>\n",
       "    <tr>\n",
       "      <th>4</th>\n",
       "      <td>2018-08-18 04:00:00</td>\n",
       "      <td>0</td>\n",
       "      <td>2018</td>\n",
       "      <td>8</td>\n",
       "      <td>18</td>\n",
       "      <td>4</td>\n",
       "      <td>33</td>\n",
       "      <td>1</td>\n",
       "      <td>0</td>\n",
       "      <td>0</td>\n",
       "      <td>0</td>\n",
       "      <td>0</td>\n",
       "      <td>0</td>\n",
       "      <td>0</td>\n",
       "      <td>0</td>\n",
       "      <td>0</td>\n",
       "      <td>0</td>\n",
       "      <td>0</td>\n",
       "      <td>0</td>\n",
       "      <td>1</td>\n",
       "      <td>0</td>\n",
       "    </tr>\n",
       "  </tbody>\n",
       "</table>\n",
       "</div>"
      ],
      "text/plain": [
       "             datetime  demand  Year  Month  Day  Hour  Week_of_year  Weekend  \\\n",
       "0 2018-08-18 00:00:00       0  2018      8   18     0            33        1   \n",
       "1 2018-08-18 01:00:00       0  2018      8   18     1            33        1   \n",
       "2 2018-08-18 02:00:00       0  2018      8   18     2            33        1   \n",
       "3 2018-08-18 03:00:00       0  2018      8   18     3            33        1   \n",
       "4 2018-08-18 04:00:00       0  2018      8   18     4            33        1   \n",
       "\n",
       "   Month_Start  Month_End  Quarter_Start  Quarter_End  Year_Start  Year_End  \\\n",
       "0            0          0              0            0           0         0   \n",
       "1            0          0              0            0           0         0   \n",
       "2            0          0              0            0           0         0   \n",
       "3            0          0              0            0           0         0   \n",
       "4            0          0              0            0           0         0   \n",
       "\n",
       "   Day_of_week_0  Day_of_week_1  Day_of_week_2  Day_of_week_3  Day_of_week_4  \\\n",
       "0              0              0              0              0              0   \n",
       "1              0              0              0              0              0   \n",
       "2              0              0              0              0              0   \n",
       "3              0              0              0              0              0   \n",
       "4              0              0              0              0              0   \n",
       "\n",
       "   Day_of_week_5  Day_of_week_6  \n",
       "0              1              0  \n",
       "1              1              0  \n",
       "2              1              0  \n",
       "3              1              0  \n",
       "4              1              0  "
      ]
     },
     "execution_count": 49,
     "metadata": {},
     "output_type": "execute_result"
    }
   ],
   "source": [
    "# Feature engineering - train\n",
    "# Creating date time features\n",
    "train_new[\"Year\"]= train_new[\"datetime\"].dt.year\n",
    "train_new[\"Month\"]= train_new[\"datetime\"].dt.month\n",
    "train_new[\"Day\"]= train_new[\"datetime\"].dt.day\n",
    "train_new[\"Hour\"]= train_new[\"datetime\"].dt.hour\n",
    "train_new[\"Week_of_year\"] = train_new[\"datetime\"].dt.week\n",
    "train_new[\"Day_of_week\"] = train_new[\"datetime\"].dt.dayofweek\n",
    "train_new[\"Weekend\"] = np.where(train_new[\"Day_of_week\"].isin([5,6]), 1, 0)\n",
    "train_new[\"Month_Start\"] = train_new[\"datetime\"].dt.is_month_start.astype(int)\n",
    "train_new[\"Month_End\"] = train_new[\"datetime\"].dt.is_month_end.astype(int)\n",
    "train_new[\"Quarter_Start\"] = train_new[\"datetime\"].dt.is_quarter_start.astype(int)\n",
    "train_new[\"Quarter_End\"] = train_new[\"datetime\"].dt.is_quarter_end.astype(int)\n",
    "train_new[\"Year_Start\"] = train_new[\"datetime\"].dt.is_year_start.astype(int)\n",
    "train_new[\"Year_End\"] = train_new[\"datetime\"].dt.is_year_end.astype(int)\n",
    "\n",
    "# one hot encoding for day of week\n",
    "train_new = \\\n",
    "pd.concat([train_new.drop([\"Day_of_week\"], axis = 1), \n",
    "           pd.get_dummies(train_new[\"Day_of_week\"], prefix = \"Day_of_week\")], axis = 1)\n",
    "\n",
    "# top 5 rows\n",
    "train_new.head()"
   ]
  },
  {
   "cell_type": "code",
   "execution_count": 50,
   "id": "54201f95-4ae7-485c-a292-070f5233ef2e",
   "metadata": {},
   "outputs": [],
   "source": [
    "# data preprocessing - test\n",
    "# crating datetime column\n",
    "test[\"date_pd\"] = pd.to_datetime(test[\"date\"])\n",
    "test[\"year\"] = test[\"date_pd\"].dt.year\n",
    "test[\"month\"] = test[\"date_pd\"].dt.month\n",
    "test[\"day\"] = test[\"date_pd\"].dt.day\n",
    "\n",
    "test[\"datetime\"] = pd.to_datetime(test[[\"year\", \"month\", \"day\", \"hour\"]])\n",
    "\n",
    "# keeping only datetime and demand column\n",
    "test = test[[\"date\", \"hour\", \"datetime\"]]"
   ]
  },
  {
   "cell_type": "code",
   "execution_count": 51,
   "id": "145827d7-ec15-494d-bfe2-7189212f9aca",
   "metadata": {},
   "outputs": [
    {
     "data": {
      "text/html": [
       "<div>\n",
       "<style scoped>\n",
       "    .dataframe tbody tr th:only-of-type {\n",
       "        vertical-align: middle;\n",
       "    }\n",
       "\n",
       "    .dataframe tbody tr th {\n",
       "        vertical-align: top;\n",
       "    }\n",
       "\n",
       "    .dataframe thead th {\n",
       "        text-align: right;\n",
       "    }\n",
       "</style>\n",
       "<table border=\"1\" class=\"dataframe\">\n",
       "  <thead>\n",
       "    <tr style=\"text-align: right;\">\n",
       "      <th></th>\n",
       "      <th>date</th>\n",
       "      <th>hour</th>\n",
       "      <th>datetime</th>\n",
       "      <th>Year</th>\n",
       "      <th>Month</th>\n",
       "      <th>Day</th>\n",
       "      <th>Hour</th>\n",
       "      <th>Week_of_year</th>\n",
       "      <th>Weekend</th>\n",
       "      <th>Month_Start</th>\n",
       "      <th>Month_End</th>\n",
       "      <th>Quarter_Start</th>\n",
       "      <th>Quarter_End</th>\n",
       "      <th>Year_Start</th>\n",
       "      <th>Year_End</th>\n",
       "      <th>Day_of_week_0</th>\n",
       "      <th>Day_of_week_1</th>\n",
       "      <th>Day_of_week_2</th>\n",
       "      <th>Day_of_week_3</th>\n",
       "      <th>Day_of_week_4</th>\n",
       "      <th>Day_of_week_5</th>\n",
       "      <th>Day_of_week_6</th>\n",
       "    </tr>\n",
       "  </thead>\n",
       "  <tbody>\n",
       "    <tr>\n",
       "      <th>0</th>\n",
       "      <td>2021-03-01</td>\n",
       "      <td>0</td>\n",
       "      <td>2021-03-01 00:00:00</td>\n",
       "      <td>2021</td>\n",
       "      <td>3</td>\n",
       "      <td>1</td>\n",
       "      <td>0</td>\n",
       "      <td>9</td>\n",
       "      <td>0</td>\n",
       "      <td>1</td>\n",
       "      <td>0</td>\n",
       "      <td>0</td>\n",
       "      <td>0</td>\n",
       "      <td>0</td>\n",
       "      <td>0</td>\n",
       "      <td>1</td>\n",
       "      <td>0</td>\n",
       "      <td>0</td>\n",
       "      <td>0</td>\n",
       "      <td>0</td>\n",
       "      <td>0</td>\n",
       "      <td>0</td>\n",
       "    </tr>\n",
       "    <tr>\n",
       "      <th>1</th>\n",
       "      <td>2021-03-01</td>\n",
       "      <td>1</td>\n",
       "      <td>2021-03-01 01:00:00</td>\n",
       "      <td>2021</td>\n",
       "      <td>3</td>\n",
       "      <td>1</td>\n",
       "      <td>1</td>\n",
       "      <td>9</td>\n",
       "      <td>0</td>\n",
       "      <td>1</td>\n",
       "      <td>0</td>\n",
       "      <td>0</td>\n",
       "      <td>0</td>\n",
       "      <td>0</td>\n",
       "      <td>0</td>\n",
       "      <td>1</td>\n",
       "      <td>0</td>\n",
       "      <td>0</td>\n",
       "      <td>0</td>\n",
       "      <td>0</td>\n",
       "      <td>0</td>\n",
       "      <td>0</td>\n",
       "    </tr>\n",
       "    <tr>\n",
       "      <th>2</th>\n",
       "      <td>2021-03-01</td>\n",
       "      <td>2</td>\n",
       "      <td>2021-03-01 02:00:00</td>\n",
       "      <td>2021</td>\n",
       "      <td>3</td>\n",
       "      <td>1</td>\n",
       "      <td>2</td>\n",
       "      <td>9</td>\n",
       "      <td>0</td>\n",
       "      <td>1</td>\n",
       "      <td>0</td>\n",
       "      <td>0</td>\n",
       "      <td>0</td>\n",
       "      <td>0</td>\n",
       "      <td>0</td>\n",
       "      <td>1</td>\n",
       "      <td>0</td>\n",
       "      <td>0</td>\n",
       "      <td>0</td>\n",
       "      <td>0</td>\n",
       "      <td>0</td>\n",
       "      <td>0</td>\n",
       "    </tr>\n",
       "    <tr>\n",
       "      <th>3</th>\n",
       "      <td>2021-03-01</td>\n",
       "      <td>3</td>\n",
       "      <td>2021-03-01 03:00:00</td>\n",
       "      <td>2021</td>\n",
       "      <td>3</td>\n",
       "      <td>1</td>\n",
       "      <td>3</td>\n",
       "      <td>9</td>\n",
       "      <td>0</td>\n",
       "      <td>1</td>\n",
       "      <td>0</td>\n",
       "      <td>0</td>\n",
       "      <td>0</td>\n",
       "      <td>0</td>\n",
       "      <td>0</td>\n",
       "      <td>1</td>\n",
       "      <td>0</td>\n",
       "      <td>0</td>\n",
       "      <td>0</td>\n",
       "      <td>0</td>\n",
       "      <td>0</td>\n",
       "      <td>0</td>\n",
       "    </tr>\n",
       "    <tr>\n",
       "      <th>4</th>\n",
       "      <td>2021-03-01</td>\n",
       "      <td>5</td>\n",
       "      <td>2021-03-01 05:00:00</td>\n",
       "      <td>2021</td>\n",
       "      <td>3</td>\n",
       "      <td>1</td>\n",
       "      <td>5</td>\n",
       "      <td>9</td>\n",
       "      <td>0</td>\n",
       "      <td>1</td>\n",
       "      <td>0</td>\n",
       "      <td>0</td>\n",
       "      <td>0</td>\n",
       "      <td>0</td>\n",
       "      <td>0</td>\n",
       "      <td>1</td>\n",
       "      <td>0</td>\n",
       "      <td>0</td>\n",
       "      <td>0</td>\n",
       "      <td>0</td>\n",
       "      <td>0</td>\n",
       "      <td>0</td>\n",
       "    </tr>\n",
       "  </tbody>\n",
       "</table>\n",
       "</div>"
      ],
      "text/plain": [
       "         date  hour            datetime  Year  Month  Day  Hour  Week_of_year  \\\n",
       "0  2021-03-01     0 2021-03-01 00:00:00  2021      3    1     0             9   \n",
       "1  2021-03-01     1 2021-03-01 01:00:00  2021      3    1     1             9   \n",
       "2  2021-03-01     2 2021-03-01 02:00:00  2021      3    1     2             9   \n",
       "3  2021-03-01     3 2021-03-01 03:00:00  2021      3    1     3             9   \n",
       "4  2021-03-01     5 2021-03-01 05:00:00  2021      3    1     5             9   \n",
       "\n",
       "   Weekend  Month_Start  Month_End  Quarter_Start  Quarter_End  Year_Start  \\\n",
       "0        0            1          0              0            0           0   \n",
       "1        0            1          0              0            0           0   \n",
       "2        0            1          0              0            0           0   \n",
       "3        0            1          0              0            0           0   \n",
       "4        0            1          0              0            0           0   \n",
       "\n",
       "   Year_End  Day_of_week_0  Day_of_week_1  Day_of_week_2  Day_of_week_3  \\\n",
       "0         0              1              0              0              0   \n",
       "1         0              1              0              0              0   \n",
       "2         0              1              0              0              0   \n",
       "3         0              1              0              0              0   \n",
       "4         0              1              0              0              0   \n",
       "\n",
       "   Day_of_week_4  Day_of_week_5  Day_of_week_6  \n",
       "0              0              0              0  \n",
       "1              0              0              0  \n",
       "2              0              0              0  \n",
       "3              0              0              0  \n",
       "4              0              0              0  "
      ]
     },
     "execution_count": 51,
     "metadata": {},
     "output_type": "execute_result"
    }
   ],
   "source": [
    "# Feature engineering - test\n",
    "# Creating date time features\n",
    "test[\"Year\"]= test[\"datetime\"].dt.year\n",
    "test[\"Month\"]= test[\"datetime\"].dt.month\n",
    "test[\"Day\"]= test[\"datetime\"].dt.day\n",
    "test[\"Hour\"]= test[\"datetime\"].dt.hour\n",
    "test[\"Week_of_year\"] = test[\"datetime\"].dt.week\n",
    "test[\"Day_of_week\"] = test[\"datetime\"].dt.dayofweek\n",
    "test[\"Weekend\"] = np.where(test[\"Day_of_week\"].isin([5,6]), 1, 0)\n",
    "test[\"Month_Start\"] = test[\"datetime\"].dt.is_month_start.astype(int)\n",
    "test[\"Month_End\"] = test[\"datetime\"].dt.is_month_end.astype(int)\n",
    "test[\"Quarter_Start\"] = test[\"datetime\"].dt.is_quarter_start.astype(int)\n",
    "test[\"Quarter_End\"] = test[\"datetime\"].dt.is_quarter_end.astype(int)\n",
    "test[\"Year_Start\"] = test[\"datetime\"].dt.is_year_start.astype(int)\n",
    "test[\"Year_End\"] = test[\"datetime\"].dt.is_year_end.astype(int)\n",
    "\n",
    "# one hot encoding for day of week\n",
    "test = \\\n",
    "pd.concat([test.drop([\"Day_of_week\"], axis = 1), \n",
    "           pd.get_dummies(test[\"Day_of_week\"], prefix = \"Day_of_week\")], axis = 1)\n",
    "\n",
    "\n",
    "# top 5 rows\n",
    "test.head()"
   ]
  },
  {
   "cell_type": "markdown",
   "id": "64425a68-9d92-4626-ae6d-0c0e4fd95019",
   "metadata": {},
   "source": [
    "## 4. <a name=\"4\">Univariate analysis</a>\n",
    "(<a href=\"#0\">Go to top</a>)\n",
    "\n",
    "We will look at demand in more detail."
   ]
  },
  {
   "cell_type": "markdown",
   "id": "5b98079d-e000-4ecd-9b33-b8faab515f18",
   "metadata": {},
   "source": [
    "### Demand"
   ]
  },
  {
   "cell_type": "markdown",
   "id": "4ba6b6e1-9088-4d18-a7ea-d3da37e32f87",
   "metadata": {},
   "source": [
    "#### Descriptive statistics"
   ]
  },
  {
   "cell_type": "code",
   "execution_count": 52,
   "id": "1267c93a-e2d5-4ee1-bf4f-3642d0046346",
   "metadata": {},
   "outputs": [
    {
     "data": {
      "text/plain": [
       "count   21,480.00\n",
       "mean        62.85\n",
       "std         46.64\n",
       "min          0.00\n",
       "25%         26.00\n",
       "50%         62.00\n",
       "75%         93.00\n",
       "max        379.00\n",
       "Name: demand, dtype: float64"
      ]
     },
     "execution_count": 52,
     "metadata": {},
     "output_type": "execute_result"
    }
   ],
   "source": [
    "# descriptive statistics\n",
    "train_new[\"demand\"].describe()"
   ]
  },
  {
   "cell_type": "code",
   "execution_count": 53,
   "id": "b39ae548-f9c2-4806-b225-ceccddb73c60",
   "metadata": {},
   "outputs": [
    {
     "name": "stdout",
     "output_type": "stream",
     "text": [
      "% of records with Zero demand : 15.05%\n"
     ]
    }
   ],
   "source": [
    "# % of records with 0 demand\n",
    "print(\"% of records with Zero demand :\", \n",
    "      '{:.2f}%'.format(np.around(len(train_new[train_new[\"demand\"]==0])/len(train_new),4)*100))"
   ]
  },
  {
   "cell_type": "markdown",
   "id": "6a0e94f5-b371-4e35-bee6-3a771f9e699a",
   "metadata": {},
   "source": [
    "#### Checking distributions"
   ]
  },
  {
   "cell_type": "code",
   "execution_count": 54,
   "id": "9307e494-2390-4a0d-8189-5e6d5b4daeb6",
   "metadata": {},
   "outputs": [
    {
     "data": {
      "image/png": "[encoded data removed]",
      "text/plain": [
       "<Figure size 1440x360 with 3 Axes>"
      ]
     },
     "metadata": {},
     "output_type": "display_data"
    }
   ],
   "source": [
    "# distribution check\n",
    "# histogram and box plot\n",
    "fig, (ax1, ax2, ax3) = plt.subplots(1,3, figsize = (20,5))\n",
    "sns.histplot(x = train_new[\"demand\"], bins=50, kde = True, ax= ax1);\n",
    "ax1.set_title(\"Demand - Histogram\")\n",
    "sns.boxplot(y = train_new[\"demand\"], ax= ax2);\n",
    "ax2.set_title(\"Demand - Box Plot\");\n",
    "stats.probplot(train_new[\"demand\"], plot = ax3)\n",
    "ax3.set_title(\"Demand - Q-Q plot\");\n",
    "plt.show();"
   ]
  },
  {
   "cell_type": "code",
   "execution_count": 55,
   "id": "98d78108-d8fe-4dc6-b60d-27e09b02d71e",
   "metadata": {},
   "outputs": [
    {
     "data": {
      "image/png": "[encoded data removed]",
      "text/plain": [
       "<Figure size 1440x360 with 3 Axes>"
      ]
     },
     "metadata": {},
     "output_type": "display_data"
    }
   ],
   "source": [
    "# distribution check - with log transformation\n",
    "# histogram and box plot\n",
    "fig, (ax1, ax2, ax3) = plt.subplots(1,3, figsize = (20,5))\n",
    "sns.histplot(x = np.log1p(train_new[\"demand\"]), bins=50, kde = True, ax= ax1);\n",
    "ax1.set_title(\"Log Demand - Histogram\")\n",
    "sns.boxplot(y = np.log1p(train_new[\"demand\"]), ax= ax2);\n",
    "ax2.set_title(\"Log Demand - Box Plot\");\n",
    "stats.probplot(np.log1p(train_new[\"demand\"]), plot = ax3)\n",
    "ax3.set_title(\"Log Demand - Q-Q plot\");\n",
    "plt.show();"
   ]
  },
  {
   "cell_type": "code",
   "execution_count": 56,
   "id": "503d5290-1322-4f36-a5a7-e63955311107",
   "metadata": {},
   "outputs": [
    {
     "data": {
      "image/png": "[encoded data removed]",
      "text/plain": [
       "<Figure size 1440x360 with 3 Axes>"
      ]
     },
     "metadata": {},
     "output_type": "display_data"
    }
   ],
   "source": [
    "# distribution check - with square root transformation\n",
    "# histogram and box plot\n",
    "fig, (ax1, ax2, ax3) = plt.subplots(1,3, figsize = (20,5))\n",
    "sns.histplot(x = np.sqrt(train_new[\"demand\"]), bins=50, kde = True, ax= ax1);\n",
    "ax1.set_title(\"Squareroot Demand - Histogram\")\n",
    "sns.boxplot(y = np.sqrt(train_new[\"demand\"]), ax= ax2);\n",
    "ax2.set_title(\"Squareroot Demand - Box Plot\");\n",
    "stats.probplot(np.sqrt(train_new[\"demand\"]), plot = ax3)\n",
    "ax3.set_title(\"Squareroot Demand - Q-Q plot\");\n",
    "plt.show();"
   ]
  },
  {
   "cell_type": "markdown",
   "id": "79ea04ba-6d13-4cd9-a26e-2dd36e836a38",
   "metadata": {},
   "source": [
    "#### Demand trend - Line plot"
   ]
  },
  {
   "cell_type": "code",
   "execution_count": 57,
   "id": "317904a9-7a50-412b-aeaf-a01002858dfe",
   "metadata": {},
   "outputs": [
    {
     "data": {
      "image/png": "[encoded data removed]",
      "text/plain": [
       "<Figure size 1440x360 with 1 Axes>"
      ]
     },
     "metadata": {
      "needs_background": "light"
     },
     "output_type": "display_data"
    }
   ],
   "source": [
    "import matplotlib.pyplot as plt\n",
    "import seaborn as sns\n",
    "%matplotlib inline\n",
    "\n",
    "plt.figure(figsize = (20,5))\n",
    "train_new[\"demand\"].plot();"
   ]
  },
  {
   "cell_type": "markdown",
   "id": "65e14558-7aac-4d67-afb4-af0ca66c5d26",
   "metadata": {},
   "source": [
    "#### Lag and Auto-correlation plot"
   ]
  },
  {
   "cell_type": "code",
   "execution_count": 58,
   "id": "c36bbefd-4d0c-4510-b857-05013ef2ee9b",
   "metadata": {},
   "outputs": [
    {
     "data": {
      "image/png": "[encoded data removed]",
      "text/plain": [
       "<Figure size 1440x360 with 2 Axes>"
      ]
     },
     "metadata": {
      "needs_background": "light"
     },
     "output_type": "display_data"
    }
   ],
   "source": [
    "from pandas.plotting import lag_plot, autocorrelation_plot\n",
    "\n",
    "fig, (ax1, ax2) = plt.subplots(1,2, figsize = (20,5))\n",
    "lag_plot(train_new[\"demand\"], ax = ax1)\n",
    "ax1.set_title(\"Lag Plot\")\n",
    "autocorrelation_plot(train_new[\"demand\"], ax = ax2)\n",
    "ax2.set_title(\"Autocorrelation Plot\")\n",
    "plt.show()"
   ]
  },
  {
   "cell_type": "code",
   "execution_count": 59,
   "id": "6787b000-c37f-40eb-9185-8d18b25485de",
   "metadata": {},
   "outputs": [
    {
     "data": {
      "image/png": "[encoded data removed]",
      "text/plain": [
       "<Figure size 1440x360 with 2 Axes>"
      ]
     },
     "metadata": {
      "needs_background": "light"
     },
     "output_type": "display_data"
    }
   ],
   "source": [
    "# lag and autocorrelation plot - log transformation\n",
    "fig, (ax1, ax2) = plt.subplots(1,2, figsize = (20,5))\n",
    "lag_plot(np.log1p(train_new[\"demand\"]), ax = ax1)\n",
    "ax1.set_title(\"Lag Plot - Log demand\")\n",
    "autocorrelation_plot(np.log1p(train_new[\"demand\"]), ax = ax2)\n",
    "ax2.set_title(\"Autocorrelation Plot - - Log demand\")\n",
    "plt.show()"
   ]
  },
  {
   "cell_type": "code",
   "execution_count": 60,
   "id": "81393601-8283-4661-9f06-f849b9589039",
   "metadata": {},
   "outputs": [
    {
     "data": {
      "image/png": "[encoded data removed]",
      "text/plain": [
       "<Figure size 1440x360 with 2 Axes>"
      ]
     },
     "metadata": {
      "needs_background": "light"
     },
     "output_type": "display_data"
    }
   ],
   "source": [
    "# lag and autocorrelation plot - sqrt transformation\n",
    "fig, (ax1, ax2) = plt.subplots(1,2, figsize = (20,5))\n",
    "lag_plot(np.sqrt(train_new[\"demand\"]), ax = ax1)\n",
    "ax1.set_title(\"Lag Plot - Sqrt demand\")\n",
    "autocorrelation_plot(np.sqrt(train_new[\"demand\"]), ax = ax2)\n",
    "ax2.set_title(\"Autocorrelation Plot - Sqrt demand\")\n",
    "plt.show()"
   ]
  },
  {
   "cell_type": "markdown",
   "id": "6b7fcf6a-d676-4b59-bbe1-379e171483cb",
   "metadata": {},
   "source": [
    "## 5. <a name=\"5\">Model building</a>\n",
    "(<a href=\"#0\">Go to top</a>)\n",
    "\n",
    "Let's start with model building."
   ]
  },
  {
   "cell_type": "markdown",
   "id": "248b3e17-795a-4040-868a-421634735195",
   "metadata": {},
   "source": [
    "### Splitting data into train and validation\n",
    "\n",
    "We’ll use the last 10% of the data for testing."
   ]
  },
  {
   "cell_type": "code",
   "execution_count": 61,
   "id": "f87f6f43-c4b2-44f5-a23c-f71615e6e67c",
   "metadata": {},
   "outputs": [
    {
     "name": "stdout",
     "output_type": "stream",
     "text": [
      "19332 2148\n"
     ]
    }
   ],
   "source": [
    "train_size = int(len(train_new) * 0.9)\n",
    "test_size = len(train_new) - train_size\n",
    "\n",
    "train_df, val_df = train_new.iloc[0:train_size], train_new.iloc[train_size:len(train_new)]\n",
    "print(len(train_df), len(val_df))"
   ]
  },
  {
   "cell_type": "markdown",
   "id": "55d8b056-2982-4af5-b5e0-bb9a6d4c0a3d",
   "metadata": {},
   "source": [
    "### Creating X and y"
   ]
  },
  {
   "cell_type": "code",
   "execution_count": 62,
   "id": "dc40b81c-7eee-4b9d-bd81-d71c196c8983",
   "metadata": {},
   "outputs": [
    {
     "name": "stdout",
     "output_type": "stream",
     "text": [
      "Shape of X_train : (19332, 19)\n",
      "Shape of y_train : (19332,)\n",
      "Shape of X_val : (2148, 19)\n",
      "Shape of y_val : (2148,)\n"
     ]
    }
   ],
   "source": [
    "# Creating X and y\n",
    "X_train = train_df.drop([\"datetime\", \"demand\"], axis = 1)\n",
    "y_train = train_df[\"demand\"].values\n",
    "\n",
    "X_val = val_df.drop([\"datetime\", \"demand\"], axis = 1)\n",
    "y_val = val_df[\"demand\"].values\n",
    "\n",
    "print(\"Shape of X_train :\", X_train.shape)\n",
    "print(\"Shape of y_train :\", y_train.shape)\n",
    "\n",
    "print(\"Shape of X_val :\", X_val.shape)\n",
    "print(\"Shape of y_val :\", y_val.shape)"
   ]
  },
  {
   "cell_type": "markdown",
   "id": "76c65ac7-0dd6-4839-958d-dba00893d41e",
   "metadata": {},
   "source": [
    "### Searching best machine learning algorithm"
   ]
  },
  {
   "cell_type": "markdown",
   "id": "77457a50-2f9d-4691-ba3c-7298b308646e",
   "metadata": {},
   "source": [
    "#### Linear Regression"
   ]
  },
  {
   "cell_type": "code",
   "execution_count": 63,
   "id": "128371c6-bf35-44c2-a48f-d1b4d4a447ae",
   "metadata": {},
   "outputs": [
    {
     "name": "stdout",
     "output_type": "stream",
     "text": [
      "training RMSE : 42.61651607748159\n",
      "validation RMSE : 47.19351283419454\n"
     ]
    }
   ],
   "source": [
    "# itr 1 : linear regression\n",
    "from sklearn.metrics import mean_squared_error\n",
    "from sklearn.preprocessing import StandardScaler\n",
    "from sklearn.pipeline import Pipeline\n",
    "from sklearn.linear_model import LinearRegression\n",
    "\n",
    "# Storing model results\n",
    "itr_list, train_score_list, val_score_list  = [], [], []\n",
    "\n",
    "# Linear Regression\n",
    "model_pipeline = \\\n",
    "Pipeline([('Scaler', StandardScaler()), \n",
    "          ('model', LinearRegression())\n",
    "         ])\n",
    "\n",
    "# fit model\n",
    "model = model_pipeline.fit(X_train, y_train)\n",
    "\n",
    "# making prediction\n",
    "train_pred = np.around(model.predict(X_train),0).astype(int)\n",
    "val_pred = np.around(model.predict(X_val),0).astype(int)\n",
    "\n",
    "# calculating score\n",
    "train_score = np.sqrt(mean_squared_error(y_train, train_pred))\n",
    "val_score = np.sqrt(mean_squared_error(y_val, val_pred))\n",
    "print(\"training RMSE :\", train_score)\n",
    "print(\"validation RMSE :\", val_score)\n",
    "\n",
    "# storing results\n",
    "itr_list.append(\"Linear Regression\")\n",
    "train_score_list.append(train_score)   \n",
    "val_score_list.append(val_score)"
   ]
  },
  {
   "cell_type": "markdown",
   "id": "a5c1b03b-b50b-42ce-9fda-57eecd5d659b",
   "metadata": {},
   "source": [
    "#### Linear Regression with L1 regularisation (Lasso)"
   ]
  },
  {
   "cell_type": "code",
   "execution_count": 64,
   "id": "09ad5d6a-04f0-4a68-b032-9e00d384c177",
   "metadata": {},
   "outputs": [
    {
     "name": "stdout",
     "output_type": "stream",
     "text": [
      "training RMSE : 42.7316734227818\n",
      "validation RMSE : 47.95616500137113\n"
     ]
    }
   ],
   "source": [
    "# itr 2 : lasso\n",
    "from sklearn.linear_model import Lasso\n",
    "\n",
    "# Linear Regression with l1 norm\n",
    "model_pipeline = \\\n",
    "Pipeline([('Scaler', StandardScaler()), \n",
    "          ('model', Lasso(random_state = 123))\n",
    "         ])\n",
    "\n",
    "# fit model\n",
    "model = model_pipeline.fit(X_train, y_train)\n",
    "\n",
    "# making prediction\n",
    "train_pred = np.around(model.predict(X_train),0).astype(int)\n",
    "val_pred = np.around(model.predict(X_val),0).astype(int)\n",
    "\n",
    "# calculating score\n",
    "train_score = np.sqrt(mean_squared_error(y_train, train_pred))\n",
    "val_score = np.sqrt(mean_squared_error(y_val, val_pred))\n",
    "print(\"training RMSE :\", train_score)\n",
    "print(\"validation RMSE :\", val_score)\n",
    "\n",
    "# storing results\n",
    "itr_list.append(\"Linear Regression with L1 regularisation\")\n",
    "train_score_list.append(train_score)   \n",
    "val_score_list.append(val_score)"
   ]
  },
  {
   "cell_type": "markdown",
   "id": "a54146ca-687d-4484-b103-6c43e3bed449",
   "metadata": {},
   "source": [
    "#### Linear Regression with L2 regularisation (Ridge)"
   ]
  },
  {
   "cell_type": "code",
   "execution_count": 65,
   "id": "f90baf69-61b4-40b9-8c2e-9f18e3e7094e",
   "metadata": {},
   "outputs": [
    {
     "name": "stdout",
     "output_type": "stream",
     "text": [
      "training RMSE : 42.61612705447448\n",
      "validation RMSE : 47.21663000443584\n"
     ]
    }
   ],
   "source": [
    "# itr 3 : Ridge\n",
    "from sklearn.linear_model import Ridge\n",
    "\n",
    "# Linear Regression with l2 norm\n",
    "model_pipeline = \\\n",
    "Pipeline([('Scaler', StandardScaler()), \n",
    "          ('model', Ridge(random_state = 123))\n",
    "         ])\n",
    "\n",
    "# fit model\n",
    "model = model_pipeline.fit(X_train, y_train)\n",
    "\n",
    "# making prediction\n",
    "train_pred = np.around(model.predict(X_train),0).astype(int)\n",
    "val_pred = np.around(model.predict(X_val),0).astype(int)\n",
    "\n",
    "# calculating score\n",
    "train_score = np.sqrt(mean_squared_error(y_train, train_pred))\n",
    "val_score = np.sqrt(mean_squared_error(y_val, val_pred))\n",
    "print(\"training RMSE :\", train_score)\n",
    "print(\"validation RMSE :\", val_score)\n",
    "\n",
    "# storing results\n",
    "itr_list.append(\"Linear Regression with L2 regularisation\")\n",
    "train_score_list.append(train_score)   \n",
    "val_score_list.append(val_score)"
   ]
  },
  {
   "cell_type": "markdown",
   "id": "b9fc9d07-dd36-4de4-ad68-134f4c7523ee",
   "metadata": {},
   "source": [
    "#### Linear Regression with huber loss (Huber Regression)"
   ]
  },
  {
   "cell_type": "code",
   "execution_count": 66,
   "id": "125cf3f1-0bfe-4f31-a14a-d0a09f607ee7",
   "metadata": {},
   "outputs": [
    {
     "name": "stdout",
     "output_type": "stream",
     "text": [
      "training RMSE : 42.75661080385391\n",
      "validation RMSE : 47.94699995275277\n"
     ]
    }
   ],
   "source": [
    "# itr 4 : HuberRegressor\n",
    "from sklearn.linear_model import HuberRegressor\n",
    "\n",
    "# Huber Regression\n",
    "model_pipeline = \\\n",
    "Pipeline([('Scaler', StandardScaler()), \n",
    "          ('model', HuberRegressor())\n",
    "         ])\n",
    "\n",
    "# fit model\n",
    "model = model_pipeline.fit(X_train, y_train)\n",
    "\n",
    "# making prediction\n",
    "train_pred = np.around(model.predict(X_train),0).astype(int)\n",
    "val_pred = np.around(model.predict(X_val),0).astype(int)\n",
    "\n",
    "# calculating score\n",
    "train_score = np.sqrt(mean_squared_error(y_train, train_pred))\n",
    "val_score = np.sqrt(mean_squared_error(y_val, val_pred))\n",
    "print(\"training RMSE :\", train_score)\n",
    "print(\"validation RMSE :\", val_score)\n",
    "\n",
    "# storing results\n",
    "itr_list.append(\"Huber Regressor\")\n",
    "train_score_list.append(train_score)   \n",
    "val_score_list.append(val_score)"
   ]
  },
  {
   "cell_type": "markdown",
   "id": "9e0c0cac-d924-4ad6-8344-f8f429530a7f",
   "metadata": {},
   "source": [
    "#### Poisson Regression"
   ]
  },
  {
   "cell_type": "code",
   "execution_count": 67,
   "id": "6d4869ce-e5ed-4b86-8be5-0cb1a20f36f0",
   "metadata": {},
   "outputs": [
    {
     "name": "stdout",
     "output_type": "stream",
     "text": [
      "training RMSE : 43.23614357592525\n",
      "validation RMSE : 47.93128228233676\n"
     ]
    }
   ],
   "source": [
    "# itr 5 : Poisson Regressor\n",
    "from sklearn.linear_model import PoissonRegressor\n",
    "\n",
    "# Poisson Regression\n",
    "model_pipeline = \\\n",
    "Pipeline([('Scaler', StandardScaler()), \n",
    "          ('model', PoissonRegressor())\n",
    "         ])\n",
    "\n",
    "# fit model\n",
    "model = model_pipeline.fit(X_train, y_train)\n",
    "\n",
    "# making prediction\n",
    "train_pred = np.around(model.predict(X_train),0).astype(int)\n",
    "val_pred = np.around(model.predict(X_val),0).astype(int)\n",
    "\n",
    "# calculating score\n",
    "train_score = np.sqrt(mean_squared_error(y_train, train_pred))\n",
    "val_score = np.sqrt(mean_squared_error(y_val, val_pred))\n",
    "print(\"training RMSE :\", train_score)\n",
    "print(\"validation RMSE :\", val_score)\n",
    "\n",
    "# storing results\n",
    "itr_list.append(\"Poisson Regressor\")\n",
    "train_score_list.append(train_score)   \n",
    "val_score_list.append(val_score)"
   ]
  },
  {
   "cell_type": "markdown",
   "id": "52d76ee4-7ad0-437e-a7ea-c116d9d7e4fb",
   "metadata": {},
   "source": [
    "#### KNN Regression"
   ]
  },
  {
   "cell_type": "code",
   "execution_count": 68,
   "id": "a41d0606-efe9-4f73-827a-6f751a8e5eaf",
   "metadata": {},
   "outputs": [
    {
     "name": "stdout",
     "output_type": "stream",
     "text": [
      "training RMSE : 27.922766549639032\n",
      "validation RMSE : 44.55010988205072\n"
     ]
    }
   ],
   "source": [
    "# itr 6 : KNN Regressor\n",
    "from sklearn.neighbors import KNeighborsRegressor\n",
    "\n",
    "# Poisson Regression\n",
    "model_pipeline = \\\n",
    "Pipeline([('Scaler', StandardScaler()), \n",
    "          ('model', KNeighborsRegressor())\n",
    "         ])\n",
    "\n",
    "# fit model\n",
    "model = model_pipeline.fit(X_train, y_train)\n",
    "\n",
    "# making prediction\n",
    "train_pred = np.around(model.predict(X_train),0).astype(int)\n",
    "val_pred = np.around(model.predict(X_val),0).astype(int)\n",
    "\n",
    "# calculating score\n",
    "train_score = np.sqrt(mean_squared_error(y_train, train_pred))\n",
    "val_score = np.sqrt(mean_squared_error(y_val, val_pred))\n",
    "print(\"training RMSE :\", train_score)\n",
    "print(\"validation RMSE :\", val_score)\n",
    "\n",
    "# storing results\n",
    "itr_list.append(\"K-Neighbors Regressor\")\n",
    "train_score_list.append(train_score)   \n",
    "val_score_list.append(val_score)"
   ]
  },
  {
   "cell_type": "markdown",
   "id": "632fa818-1655-41fb-ab58-364bccc095ae",
   "metadata": {},
   "source": [
    "#### Support Vector Machine with linear kernel"
   ]
  },
  {
   "cell_type": "code",
   "execution_count": 69,
   "id": "9ad7254a-1962-4eee-8430-bc57b7af4a65",
   "metadata": {},
   "outputs": [
    {
     "name": "stdout",
     "output_type": "stream",
     "text": [
      "training RMSE : 42.944714458202476\n",
      "validation RMSE : 47.958756916653805\n"
     ]
    }
   ],
   "source": [
    "# itr 7 : LinearSVR\n",
    "from sklearn.svm import LinearSVR\n",
    "\n",
    "# Poisson Regression\n",
    "model_pipeline = \\\n",
    "Pipeline([('Scaler', StandardScaler()), \n",
    "          ('model', LinearSVR(random_state = 123))\n",
    "         ])\n",
    "\n",
    "# fit model\n",
    "model = model_pipeline.fit(X_train, y_train)\n",
    "\n",
    "# making prediction\n",
    "train_pred = np.around(model.predict(X_train),0).astype(int)\n",
    "val_pred = np.around(model.predict(X_val),0).astype(int)\n",
    "\n",
    "# calculating score\n",
    "train_score = np.sqrt(mean_squared_error(y_train, train_pred))\n",
    "val_score = np.sqrt(mean_squared_error(y_val, val_pred))\n",
    "print(\"training RMSE :\", train_score)\n",
    "print(\"validation RMSE :\", val_score)\n",
    "\n",
    "# storing results\n",
    "itr_list.append(\"Linear Support Vector Regressor\")\n",
    "train_score_list.append(train_score)   \n",
    "val_score_list.append(val_score)"
   ]
  },
  {
   "cell_type": "markdown",
   "id": "ecf43c71-89d6-4a3e-a33c-8bdd8acaf3d8",
   "metadata": {},
   "source": [
    "#### Support Vector Machine with Gaussian kernel"
   ]
  },
  {
   "cell_type": "code",
   "execution_count": 70,
   "id": "a2e42676-6805-4f31-bcf5-6be691896eb3",
   "metadata": {},
   "outputs": [
    {
     "name": "stdout",
     "output_type": "stream",
     "text": [
      "training RMSE : 41.408613066429155\n",
      "validation RMSE : 47.328692365655215\n"
     ]
    }
   ],
   "source": [
    "# itr 8 : SVR with gaussian kernel\n",
    "from sklearn.svm import SVR\n",
    "\n",
    "# Poisson Regression\n",
    "model_pipeline = \\\n",
    "Pipeline([('Scaler', StandardScaler()), \n",
    "          ('model', SVR())\n",
    "         ])\n",
    "\n",
    "# fit model\n",
    "model = model_pipeline.fit(X_train, y_train)\n",
    "\n",
    "# making prediction\n",
    "train_pred = np.around(model.predict(X_train),0).astype(int)\n",
    "val_pred = np.around(model.predict(X_val),0).astype(int)\n",
    "\n",
    "# calculating score\n",
    "train_score = np.sqrt(mean_squared_error(y_train, train_pred))\n",
    "val_score = np.sqrt(mean_squared_error(y_val, val_pred))\n",
    "print(\"training RMSE :\", train_score)\n",
    "print(\"validation RMSE :\", val_score)\n",
    "\n",
    "# storing results\n",
    "itr_list.append(\"Support Vector Regressor with gaussian kernel\")\n",
    "train_score_list.append(train_score)   \n",
    "val_score_list.append(val_score)"
   ]
  },
  {
   "cell_type": "markdown",
   "id": "ec1e7aa5-57a7-4b06-9492-f86a4237bfbe",
   "metadata": {},
   "source": [
    "#### Decision Tree"
   ]
  },
  {
   "cell_type": "code",
   "execution_count": 71,
   "id": "4c2959da-063e-43f0-bfc8-a0a48a76dfce",
   "metadata": {},
   "outputs": [
    {
     "name": "stdout",
     "output_type": "stream",
     "text": [
      "training RMSE : 22.222742855477833\n",
      "validation RMSE : 44.41004759901459\n"
     ]
    }
   ],
   "source": [
    "# itr 9 : Decision Tree\n",
    "from sklearn.tree import DecisionTreeRegressor\n",
    "\n",
    "# Poisson Regression\n",
    "model_pipeline = \\\n",
    "Pipeline([('Scaler', StandardScaler()), \n",
    "          ('model', DecisionTreeRegressor(min_samples_leaf = 3, random_state = 123))\n",
    "         ])\n",
    "\n",
    "# fit model\n",
    "model = model_pipeline.fit(X_train, y_train)\n",
    "\n",
    "# making prediction\n",
    "train_pred = np.around(model.predict(X_train),0).astype(int)\n",
    "val_pred = np.around(model.predict(X_val),0).astype(int)\n",
    "\n",
    "# calculating score\n",
    "train_score = np.sqrt(mean_squared_error(y_train, train_pred))\n",
    "val_score = np.sqrt(mean_squared_error(y_val, val_pred))\n",
    "print(\"training RMSE :\", train_score)\n",
    "print(\"validation RMSE :\", val_score)\n",
    "\n",
    "# storing results\n",
    "itr_list.append(\"Decision Tree Regressor\")\n",
    "train_score_list.append(train_score)   \n",
    "val_score_list.append(val_score)"
   ]
  },
  {
   "cell_type": "markdown",
   "id": "23e3415d-ff6a-4398-a388-216ecd2f2935",
   "metadata": {},
   "source": [
    "#### Random Forest"
   ]
  },
  {
   "cell_type": "code",
   "execution_count": 72,
   "id": "c1595888-7329-4577-b5b8-b224acb3aa28",
   "metadata": {},
   "outputs": [
    {
     "name": "stdout",
     "output_type": "stream",
     "text": [
      "training RMSE : 22.425534867898204\n",
      "validation RMSE : 37.185765983859085\n"
     ]
    }
   ],
   "source": [
    "# itr 10 : Random Forest\n",
    "from sklearn.ensemble import RandomForestRegressor\n",
    "\n",
    "# RandomForest Regression model\n",
    "model_pipeline = \\\n",
    "Pipeline([('Scaler', StandardScaler()), \n",
    "          ('model', RandomForestRegressor(n_estimators = 500,\n",
    "                                          criterion = \"squared_error\",\n",
    "                                          min_samples_leaf = 3,\n",
    "                                          n_jobs = -1,\n",
    "                                          random_state = 123))\n",
    "         ])\n",
    "\n",
    "# fit model\n",
    "model = model_pipeline.fit(X_train, y_train)\n",
    "\n",
    "# making prediction\n",
    "train_pred = np.around(model.predict(X_train),0).astype(int)\n",
    "val_pred = np.around(model.predict(X_val),0).astype(int)\n",
    "\n",
    "# calculating score\n",
    "train_score = np.sqrt(mean_squared_error(y_train, train_pred))\n",
    "val_score = np.sqrt(mean_squared_error(y_val, val_pred))\n",
    "print(\"training RMSE :\", train_score)\n",
    "print(\"validation RMSE :\", val_score)\n",
    "\n",
    "# storing results\n",
    "itr_list.append(\"Random Forest Regressor\")\n",
    "train_score_list.append(train_score)   \n",
    "val_score_list.append(val_score)"
   ]
  },
  {
   "cell_type": "code",
   "execution_count": 73,
   "id": "5206ada7-b18e-4be4-a77d-d2f2cd92fa77",
   "metadata": {},
   "outputs": [
    {
     "data": {
      "image/png": "[encoded data removed]",
      "text/plain": [
       "<Figure size 1440x720 with 1 Axes>"
      ]
     },
     "metadata": {
      "needs_background": "light"
     },
     "output_type": "display_data"
    }
   ],
   "source": [
    "# Feature importance plot\n",
    "importance = model.named_steps[\"model\"].feature_importances_.tolist()\n",
    "feature_list = X_train.columns.tolist()\n",
    "importance_df = pd.DataFrame()\n",
    "importance_df[\"Feature\"] = feature_list\n",
    "importance_df[\"Importance\"] = importance\n",
    "importance_df = importance_df.sort_values(by = \"Importance\", ascending = False)\n",
    "\n",
    "plt.figure(figsize = (20,10))\n",
    "plt.title(\"Feature Importance - RandomForest\")\n",
    "sns.barplot(x=\"Importance\", y=\"Feature\", data = importance_df);"
   ]
  },
  {
   "cell_type": "markdown",
   "id": "ffa17d5a-9643-468c-9702-515b931f6099",
   "metadata": {},
   "source": [
    "#### ExtraTrees Regressor"
   ]
  },
  {
   "cell_type": "code",
   "execution_count": 74,
   "id": "38b351fe-5159-45bc-a253-4ed3a735ea8a",
   "metadata": {},
   "outputs": [
    {
     "name": "stdout",
     "output_type": "stream",
     "text": [
      "training RMSE : 21.3571842540958\n",
      "validation RMSE : 37.80837822080115\n"
     ]
    }
   ],
   "source": [
    "# itr 11 : ExtraTrees Regressor\n",
    "from sklearn.ensemble import ExtraTreesRegressor\n",
    "\n",
    "# ExtraTreesRegressor model\n",
    "model_pipeline = \\\n",
    "Pipeline([('Scaler', StandardScaler()), \n",
    "          ('model', ExtraTreesRegressor(n_estimators = 500,\n",
    "                                        criterion = \"squared_error\",\n",
    "                                        min_samples_leaf = 3,\n",
    "                                        n_jobs = -1,\n",
    "                                        random_state = 123))\n",
    "         ])\n",
    "\n",
    "# fit model\n",
    "model = model_pipeline.fit(X_train, y_train)\n",
    "\n",
    "# making prediction\n",
    "train_pred = np.around(model.predict(X_train),0).astype(int)\n",
    "val_pred = np.around(model.predict(X_val),0).astype(int)\n",
    "\n",
    "# calculating score\n",
    "train_score = np.sqrt(mean_squared_error(y_train, train_pred))\n",
    "val_score = np.sqrt(mean_squared_error(y_val, val_pred))\n",
    "print(\"training RMSE :\", train_score)\n",
    "print(\"validation RMSE :\", val_score)\n",
    "\n",
    "# storing results\n",
    "itr_list.append(\"Extra Trees Regressor\")\n",
    "train_score_list.append(train_score)   \n",
    "val_score_list.append(val_score)"
   ]
  },
  {
   "cell_type": "markdown",
   "id": "d27e221e-3b5c-4848-9097-1fc57ad765ee",
   "metadata": {},
   "source": [
    "#### XGBoost"
   ]
  },
  {
   "cell_type": "code",
   "execution_count": 75,
   "id": "68fe2d54-3471-49c4-9d1c-4630f9c7375d",
   "metadata": {},
   "outputs": [
    {
     "name": "stdout",
     "output_type": "stream",
     "text": [
      "training RMSE : 20.356400557519578\n",
      "validation RMSE : 44.087600075836825\n"
     ]
    }
   ],
   "source": [
    "# itr 12 : XGBoost\n",
    "from xgboost import XGBRegressor\n",
    "\n",
    "# RandomForest Regression model\n",
    "model_pipeline = \\\n",
    "Pipeline([('Scaler', StandardScaler()), \n",
    "          ('model', XGBRegressor(objective = 'reg:squarederror',n_estimators = 500,seed = 123, random_state = 123))\n",
    "         ])\n",
    "\n",
    "# fit model\n",
    "model = model_pipeline.fit(X_train, y_train)\n",
    "\n",
    "# making prediction\n",
    "train_pred = np.around(model.predict(X_train),0).astype(int)\n",
    "val_pred = np.around(model.predict(X_val),0).astype(int)\n",
    "\n",
    "# calculating score\n",
    "train_score = np.sqrt(mean_squared_error(y_train, train_pred))\n",
    "val_score = np.sqrt(mean_squared_error(y_val, val_pred))\n",
    "print(\"training RMSE :\", train_score)\n",
    "print(\"validation RMSE :\", val_score)\n",
    "\n",
    "# storing results\n",
    "itr_list.append(\"XGBoost Regressor\")\n",
    "train_score_list.append(train_score)   \n",
    "val_score_list.append(val_score)"
   ]
  },
  {
   "cell_type": "markdown",
   "id": "8125b346-268c-433b-8f7b-370b575c28b0",
   "metadata": {},
   "source": [
    "#### Comparing all models"
   ]
  },
  {
   "cell_type": "code",
   "execution_count": 76,
   "id": "58e1f1a8-77b9-4f9a-a241-c8a200b35d59",
   "metadata": {},
   "outputs": [
    {
     "data": {
      "text/html": [
       "<div>\n",
       "<style scoped>\n",
       "    .dataframe tbody tr th:only-of-type {\n",
       "        vertical-align: middle;\n",
       "    }\n",
       "\n",
       "    .dataframe tbody tr th {\n",
       "        vertical-align: top;\n",
       "    }\n",
       "\n",
       "    .dataframe thead th {\n",
       "        text-align: right;\n",
       "    }\n",
       "</style>\n",
       "<table border=\"1\" class=\"dataframe\">\n",
       "  <thead>\n",
       "    <tr style=\"text-align: right;\">\n",
       "      <th></th>\n",
       "      <th>Model Name</th>\n",
       "      <th>train_score</th>\n",
       "      <th>val_score</th>\n",
       "    </tr>\n",
       "  </thead>\n",
       "  <tbody>\n",
       "    <tr>\n",
       "      <th>9</th>\n",
       "      <td>Random Forest Regressor</td>\n",
       "      <td>22.43</td>\n",
       "      <td>37.19</td>\n",
       "    </tr>\n",
       "    <tr>\n",
       "      <th>10</th>\n",
       "      <td>Extra Trees Regressor</td>\n",
       "      <td>21.36</td>\n",
       "      <td>37.81</td>\n",
       "    </tr>\n",
       "    <tr>\n",
       "      <th>11</th>\n",
       "      <td>XGBoost Regressor</td>\n",
       "      <td>20.36</td>\n",
       "      <td>44.09</td>\n",
       "    </tr>\n",
       "    <tr>\n",
       "      <th>8</th>\n",
       "      <td>Decision Tree Regressor</td>\n",
       "      <td>22.22</td>\n",
       "      <td>44.41</td>\n",
       "    </tr>\n",
       "    <tr>\n",
       "      <th>5</th>\n",
       "      <td>K-Neighbors Regressor</td>\n",
       "      <td>27.92</td>\n",
       "      <td>44.55</td>\n",
       "    </tr>\n",
       "    <tr>\n",
       "      <th>0</th>\n",
       "      <td>Linear Regression</td>\n",
       "      <td>42.62</td>\n",
       "      <td>47.19</td>\n",
       "    </tr>\n",
       "    <tr>\n",
       "      <th>2</th>\n",
       "      <td>Linear Regression with L2 regularisation</td>\n",
       "      <td>42.62</td>\n",
       "      <td>47.22</td>\n",
       "    </tr>\n",
       "    <tr>\n",
       "      <th>7</th>\n",
       "      <td>Support Vector Regressor with gaussian kernel</td>\n",
       "      <td>41.41</td>\n",
       "      <td>47.33</td>\n",
       "    </tr>\n",
       "    <tr>\n",
       "      <th>4</th>\n",
       "      <td>Poisson Regressor</td>\n",
       "      <td>43.24</td>\n",
       "      <td>47.93</td>\n",
       "    </tr>\n",
       "    <tr>\n",
       "      <th>3</th>\n",
       "      <td>Huber Regressor</td>\n",
       "      <td>42.76</td>\n",
       "      <td>47.95</td>\n",
       "    </tr>\n",
       "    <tr>\n",
       "      <th>1</th>\n",
       "      <td>Linear Regression with L1 regularisation</td>\n",
       "      <td>42.73</td>\n",
       "      <td>47.96</td>\n",
       "    </tr>\n",
       "    <tr>\n",
       "      <th>6</th>\n",
       "      <td>Linear Support Vector Regressor</td>\n",
       "      <td>42.94</td>\n",
       "      <td>47.96</td>\n",
       "    </tr>\n",
       "  </tbody>\n",
       "</table>\n",
       "</div>"
      ],
      "text/plain": [
       "                                       Model Name  train_score  val_score\n",
       "9                         Random Forest Regressor        22.43      37.19\n",
       "10                          Extra Trees Regressor        21.36      37.81\n",
       "11                              XGBoost Regressor        20.36      44.09\n",
       "8                         Decision Tree Regressor        22.22      44.41\n",
       "5                           K-Neighbors Regressor        27.92      44.55\n",
       "0                               Linear Regression        42.62      47.19\n",
       "2        Linear Regression with L2 regularisation        42.62      47.22\n",
       "7   Support Vector Regressor with gaussian kernel        41.41      47.33\n",
       "4                               Poisson Regressor        43.24      47.93\n",
       "3                                 Huber Regressor        42.76      47.95\n",
       "1        Linear Regression with L1 regularisation        42.73      47.96\n",
       "6                 Linear Support Vector Regressor        42.94      47.96"
      ]
     },
     "execution_count": 76,
     "metadata": {},
     "output_type": "execute_result"
    }
   ],
   "source": [
    "# creating model results df\n",
    "model_results = \\\n",
    "pd.DataFrame({\"Model Name\": itr_list, \"train_score\": train_score_list, \"val_score\":val_score_list})\n",
    "model_results.sort_values(by = \"val_score\")"
   ]
  },
  {
   "cell_type": "markdown",
   "id": "39d04910-9cab-482a-ade5-89eb7051ccb4",
   "metadata": {},
   "source": [
    "### Random Forest model : Hyper-parameter tuning"
   ]
  },
  {
   "cell_type": "markdown",
   "id": "63614d88-5df1-4611-ab96-48dfb5df1feb",
   "metadata": {},
   "source": [
    "#### n_estimators"
   ]
  },
  {
   "cell_type": "code",
   "execution_count": 77,
   "id": "083153b5-0898-4459-963b-1b3dd4ca284c",
   "metadata": {},
   "outputs": [
    {
     "name": "stderr",
     "output_type": "stream",
     "text": [
      "100%|██████████| 10/10 [01:18<00:00,  7.81s/it]\n"
     ]
    },
    {
     "data": {
      "text/html": [
       "<div>\n",
       "<style scoped>\n",
       "    .dataframe tbody tr th:only-of-type {\n",
       "        vertical-align: middle;\n",
       "    }\n",
       "\n",
       "    .dataframe tbody tr th {\n",
       "        vertical-align: top;\n",
       "    }\n",
       "\n",
       "    .dataframe thead th {\n",
       "        text-align: right;\n",
       "    }\n",
       "</style>\n",
       "<table border=\"1\" class=\"dataframe\">\n",
       "  <thead>\n",
       "    <tr style=\"text-align: right;\">\n",
       "      <th></th>\n",
       "      <th>n_estimators</th>\n",
       "      <th>train_score</th>\n",
       "      <th>val_score</th>\n",
       "    </tr>\n",
       "  </thead>\n",
       "  <tbody>\n",
       "    <tr>\n",
       "      <th>5</th>\n",
       "      <td>600</td>\n",
       "      <td>22.42</td>\n",
       "      <td>37.18</td>\n",
       "    </tr>\n",
       "    <tr>\n",
       "      <th>7</th>\n",
       "      <td>800</td>\n",
       "      <td>22.42</td>\n",
       "      <td>37.18</td>\n",
       "    </tr>\n",
       "    <tr>\n",
       "      <th>8</th>\n",
       "      <td>900</td>\n",
       "      <td>22.42</td>\n",
       "      <td>37.18</td>\n",
       "    </tr>\n",
       "    <tr>\n",
       "      <th>1</th>\n",
       "      <td>200</td>\n",
       "      <td>22.46</td>\n",
       "      <td>37.18</td>\n",
       "    </tr>\n",
       "    <tr>\n",
       "      <th>4</th>\n",
       "      <td>500</td>\n",
       "      <td>22.43</td>\n",
       "      <td>37.19</td>\n",
       "    </tr>\n",
       "    <tr>\n",
       "      <th>9</th>\n",
       "      <td>1000</td>\n",
       "      <td>22.41</td>\n",
       "      <td>37.19</td>\n",
       "    </tr>\n",
       "    <tr>\n",
       "      <th>6</th>\n",
       "      <td>700</td>\n",
       "      <td>22.42</td>\n",
       "      <td>37.19</td>\n",
       "    </tr>\n",
       "    <tr>\n",
       "      <th>2</th>\n",
       "      <td>300</td>\n",
       "      <td>22.44</td>\n",
       "      <td>37.21</td>\n",
       "    </tr>\n",
       "    <tr>\n",
       "      <th>3</th>\n",
       "      <td>400</td>\n",
       "      <td>22.43</td>\n",
       "      <td>37.21</td>\n",
       "    </tr>\n",
       "    <tr>\n",
       "      <th>0</th>\n",
       "      <td>100</td>\n",
       "      <td>22.51</td>\n",
       "      <td>37.25</td>\n",
       "    </tr>\n",
       "  </tbody>\n",
       "</table>\n",
       "</div>"
      ],
      "text/plain": [
       "   n_estimators  train_score  val_score\n",
       "5           600        22.42      37.18\n",
       "7           800        22.42      37.18\n",
       "8           900        22.42      37.18\n",
       "1           200        22.46      37.18\n",
       "4           500        22.43      37.19\n",
       "9          1000        22.41      37.19\n",
       "6           700        22.42      37.19\n",
       "2           300        22.44      37.21\n",
       "3           400        22.43      37.21\n",
       "0           100        22.51      37.25"
      ]
     },
     "execution_count": 77,
     "metadata": {},
     "output_type": "execute_result"
    }
   ],
   "source": [
    "# Randomforest hyperparameter tuning - n_estimators\n",
    "from tqdm import tqdm\n",
    "train_hp_tuning_score,  val_hp_tuning_score= [], []\n",
    "n_estimators = [100,200,300,400,500,600,700,800,900,1000]\n",
    "\n",
    "for n_estimator in tqdm(n_estimators):\n",
    "    \n",
    "    # RandomForest Regression model\n",
    "    model_pipeline = \\\n",
    "    Pipeline([('Scaler', StandardScaler()), \n",
    "              ('model', RandomForestRegressor(n_estimators = n_estimator,\n",
    "                                              criterion = \"squared_error\",\n",
    "                                              min_samples_leaf = 3,\n",
    "                                              n_jobs = -1,\n",
    "                                              random_state = 123))\n",
    "             ])\n",
    "\n",
    "    # fit model\n",
    "    model = model_pipeline.fit(X_train, y_train)\n",
    "\n",
    "    # making prediction\n",
    "    train_pred = np.around(model.predict(X_train),0).astype(int)\n",
    "    val_pred = np.around(model.predict(X_val),0).astype(int)\n",
    "\n",
    "    # calculating score\n",
    "    train_score = np.sqrt(mean_squared_error(y_train, train_pred))\n",
    "    val_score = np.sqrt(mean_squared_error(y_val, val_pred))\n",
    "\n",
    "    # storing results\n",
    "    train_hp_tuning_score.append(train_score)   \n",
    "    val_hp_tuning_score.append(val_score)\n",
    "\n",
    "# creating results dataframe\n",
    "hp_results_df = \\\n",
    "pd.DataFrame(\n",
    "    {\"n_estimators\":n_estimators, \n",
    "     \"train_score\":train_hp_tuning_score, \n",
    "     \"val_score\":val_hp_tuning_score})\n",
    "hp_results_df.sort_values(by = \"val_score\")"
   ]
  },
  {
   "cell_type": "markdown",
   "id": "8a56d376-bff2-4007-8d57-9fb94fcf0aeb",
   "metadata": {},
   "source": [
    "#### max_features"
   ]
  },
  {
   "cell_type": "code",
   "execution_count": 79,
   "id": "2a76941a-c7c6-410b-b724-fa12f4676f66",
   "metadata": {},
   "outputs": [
    {
     "name": "stderr",
     "output_type": "stream",
     "text": [
      "100%|██████████| 19/19 [01:44<00:00,  5.52s/it]\n"
     ]
    },
    {
     "data": {
      "text/html": [
       "<div>\n",
       "<style scoped>\n",
       "    .dataframe tbody tr th:only-of-type {\n",
       "        vertical-align: middle;\n",
       "    }\n",
       "\n",
       "    .dataframe tbody tr th {\n",
       "        vertical-align: top;\n",
       "    }\n",
       "\n",
       "    .dataframe thead th {\n",
       "        text-align: right;\n",
       "    }\n",
       "</style>\n",
       "<table border=\"1\" class=\"dataframe\">\n",
       "  <thead>\n",
       "    <tr style=\"text-align: right;\">\n",
       "      <th></th>\n",
       "      <th>max_features</th>\n",
       "      <th>train_score</th>\n",
       "      <th>val_score</th>\n",
       "    </tr>\n",
       "  </thead>\n",
       "  <tbody>\n",
       "    <tr>\n",
       "      <th>4</th>\n",
       "      <td>5</td>\n",
       "      <td>25.12</td>\n",
       "      <td>36.29</td>\n",
       "    </tr>\n",
       "    <tr>\n",
       "      <th>5</th>\n",
       "      <td>6</td>\n",
       "      <td>24.86</td>\n",
       "      <td>36.31</td>\n",
       "    </tr>\n",
       "    <tr>\n",
       "      <th>6</th>\n",
       "      <td>7</td>\n",
       "      <td>24.58</td>\n",
       "      <td>36.34</td>\n",
       "    </tr>\n",
       "    <tr>\n",
       "      <th>3</th>\n",
       "      <td>4</td>\n",
       "      <td>25.30</td>\n",
       "      <td>36.36</td>\n",
       "    </tr>\n",
       "    <tr>\n",
       "      <th>7</th>\n",
       "      <td>8</td>\n",
       "      <td>24.30</td>\n",
       "      <td>36.45</td>\n",
       "    </tr>\n",
       "    <tr>\n",
       "      <th>8</th>\n",
       "      <td>9</td>\n",
       "      <td>24.02</td>\n",
       "      <td>36.48</td>\n",
       "    </tr>\n",
       "    <tr>\n",
       "      <th>2</th>\n",
       "      <td>3</td>\n",
       "      <td>25.42</td>\n",
       "      <td>36.51</td>\n",
       "    </tr>\n",
       "    <tr>\n",
       "      <th>9</th>\n",
       "      <td>10</td>\n",
       "      <td>23.78</td>\n",
       "      <td>36.52</td>\n",
       "    </tr>\n",
       "    <tr>\n",
       "      <th>10</th>\n",
       "      <td>11</td>\n",
       "      <td>23.56</td>\n",
       "      <td>36.55</td>\n",
       "    </tr>\n",
       "    <tr>\n",
       "      <th>11</th>\n",
       "      <td>12</td>\n",
       "      <td>23.36</td>\n",
       "      <td>36.65</td>\n",
       "    </tr>\n",
       "    <tr>\n",
       "      <th>12</th>\n",
       "      <td>13</td>\n",
       "      <td>23.17</td>\n",
       "      <td>36.74</td>\n",
       "    </tr>\n",
       "    <tr>\n",
       "      <th>14</th>\n",
       "      <td>15</td>\n",
       "      <td>22.87</td>\n",
       "      <td>36.75</td>\n",
       "    </tr>\n",
       "    <tr>\n",
       "      <th>13</th>\n",
       "      <td>14</td>\n",
       "      <td>23.01</td>\n",
       "      <td>36.75</td>\n",
       "    </tr>\n",
       "    <tr>\n",
       "      <th>1</th>\n",
       "      <td>2</td>\n",
       "      <td>25.44</td>\n",
       "      <td>36.76</td>\n",
       "    </tr>\n",
       "    <tr>\n",
       "      <th>15</th>\n",
       "      <td>16</td>\n",
       "      <td>22.74</td>\n",
       "      <td>36.89</td>\n",
       "    </tr>\n",
       "    <tr>\n",
       "      <th>16</th>\n",
       "      <td>17</td>\n",
       "      <td>22.62</td>\n",
       "      <td>36.95</td>\n",
       "    </tr>\n",
       "    <tr>\n",
       "      <th>0</th>\n",
       "      <td>1</td>\n",
       "      <td>25.42</td>\n",
       "      <td>36.96</td>\n",
       "    </tr>\n",
       "    <tr>\n",
       "      <th>17</th>\n",
       "      <td>18</td>\n",
       "      <td>22.52</td>\n",
       "      <td>37.03</td>\n",
       "    </tr>\n",
       "    <tr>\n",
       "      <th>18</th>\n",
       "      <td>19</td>\n",
       "      <td>22.42</td>\n",
       "      <td>37.18</td>\n",
       "    </tr>\n",
       "  </tbody>\n",
       "</table>\n",
       "</div>"
      ],
      "text/plain": [
       "    max_features  train_score  val_score\n",
       "4              5        25.12      36.29\n",
       "5              6        24.86      36.31\n",
       "6              7        24.58      36.34\n",
       "3              4        25.30      36.36\n",
       "7              8        24.30      36.45\n",
       "8              9        24.02      36.48\n",
       "2              3        25.42      36.51\n",
       "9             10        23.78      36.52\n",
       "10            11        23.56      36.55\n",
       "11            12        23.36      36.65\n",
       "12            13        23.17      36.74\n",
       "14            15        22.87      36.75\n",
       "13            14        23.01      36.75\n",
       "1              2        25.44      36.76\n",
       "15            16        22.74      36.89\n",
       "16            17        22.62      36.95\n",
       "0              1        25.42      36.96\n",
       "17            18        22.52      37.03\n",
       "18            19        22.42      37.18"
      ]
     },
     "execution_count": 79,
     "metadata": {},
     "output_type": "execute_result"
    }
   ],
   "source": [
    "# Randomforest hyperparameter tuning - n_estimators\n",
    "from tqdm import tqdm\n",
    "train_hp_tuning_score,  val_hp_tuning_score= [], []\n",
    "max_features = [1,2,3,4,5,6,7,8,9,10,11,12,13,14,15,16,17,18,19]\n",
    "\n",
    "for max_feature in tqdm(max_features):\n",
    "    \n",
    "    # RandomForest Regression model\n",
    "    model_pipeline = \\\n",
    "    Pipeline([('Scaler', StandardScaler()), \n",
    "              ('model', RandomForestRegressor(n_estimators = 600,\n",
    "                                              criterion = \"squared_error\",\n",
    "                                              max_features = max_feature,\n",
    "                                              min_samples_leaf = 3,\n",
    "                                              n_jobs = -1,\n",
    "                                              random_state = 123))\n",
    "             ])\n",
    "\n",
    "    # fit model\n",
    "    model = model_pipeline.fit(X_train, y_train)\n",
    "\n",
    "    # making prediction\n",
    "    train_pred = np.around(model.predict(X_train),0).astype(int)\n",
    "    val_pred = np.around(model.predict(X_val),0).astype(int)\n",
    "\n",
    "    # calculating score\n",
    "    train_score = np.sqrt(mean_squared_error(y_train, train_pred))\n",
    "    val_score = np.sqrt(mean_squared_error(y_val, val_pred))\n",
    "\n",
    "    # storing results\n",
    "    train_hp_tuning_score.append(train_score)   \n",
    "    val_hp_tuning_score.append(val_score)\n",
    "\n",
    "# creating results dataframe\n",
    "hp_results_df = \\\n",
    "pd.DataFrame(\n",
    "    {\"max_features\":max_features, \n",
    "     \"train_score\":train_hp_tuning_score, \n",
    "     \"val_score\":val_hp_tuning_score})\n",
    "hp_results_df.sort_values(by = \"val_score\")"
   ]
  },
  {
   "cell_type": "markdown",
   "id": "8e86702d-0323-46ff-b20b-8bc84ea3b2df",
   "metadata": {},
   "source": [
    "#### max_depth"
   ]
  },
  {
   "cell_type": "code",
   "execution_count": 81,
   "id": "23dbfe6f-d4bc-48fc-b324-8e2518144e56",
   "metadata": {},
   "outputs": [
    {
     "name": "stderr",
     "output_type": "stream",
     "text": [
      "100%|██████████| 17/17 [00:48<00:00,  2.87s/it]\n"
     ]
    },
    {
     "data": {
      "text/html": [
       "<div>\n",
       "<style scoped>\n",
       "    .dataframe tbody tr th:only-of-type {\n",
       "        vertical-align: middle;\n",
       "    }\n",
       "\n",
       "    .dataframe tbody tr th {\n",
       "        vertical-align: top;\n",
       "    }\n",
       "\n",
       "    .dataframe thead th {\n",
       "        text-align: right;\n",
       "    }\n",
       "</style>\n",
       "<table border=\"1\" class=\"dataframe\">\n",
       "  <thead>\n",
       "    <tr style=\"text-align: right;\">\n",
       "      <th></th>\n",
       "      <th>max_depths</th>\n",
       "      <th>train_score</th>\n",
       "      <th>val_score</th>\n",
       "    </tr>\n",
       "  </thead>\n",
       "  <tbody>\n",
       "    <tr>\n",
       "      <th>10</th>\n",
       "      <td>14</td>\n",
       "      <td>27.46</td>\n",
       "      <td>36.07</td>\n",
       "    </tr>\n",
       "    <tr>\n",
       "      <th>11</th>\n",
       "      <td>15</td>\n",
       "      <td>26.81</td>\n",
       "      <td>36.08</td>\n",
       "    </tr>\n",
       "    <tr>\n",
       "      <th>9</th>\n",
       "      <td>13</td>\n",
       "      <td>28.25</td>\n",
       "      <td>36.08</td>\n",
       "    </tr>\n",
       "    <tr>\n",
       "      <th>8</th>\n",
       "      <td>12</td>\n",
       "      <td>29.22</td>\n",
       "      <td>36.09</td>\n",
       "    </tr>\n",
       "    <tr>\n",
       "      <th>12</th>\n",
       "      <td>16</td>\n",
       "      <td>26.27</td>\n",
       "      <td>36.15</td>\n",
       "    </tr>\n",
       "    <tr>\n",
       "      <th>13</th>\n",
       "      <td>17</td>\n",
       "      <td>25.88</td>\n",
       "      <td>36.20</td>\n",
       "    </tr>\n",
       "    <tr>\n",
       "      <th>14</th>\n",
       "      <td>18</td>\n",
       "      <td>25.59</td>\n",
       "      <td>36.21</td>\n",
       "    </tr>\n",
       "    <tr>\n",
       "      <th>15</th>\n",
       "      <td>19</td>\n",
       "      <td>25.39</td>\n",
       "      <td>36.23</td>\n",
       "    </tr>\n",
       "    <tr>\n",
       "      <th>16</th>\n",
       "      <td>20</td>\n",
       "      <td>25.28</td>\n",
       "      <td>36.23</td>\n",
       "    </tr>\n",
       "    <tr>\n",
       "      <th>7</th>\n",
       "      <td>11</td>\n",
       "      <td>30.26</td>\n",
       "      <td>36.33</td>\n",
       "    </tr>\n",
       "    <tr>\n",
       "      <th>6</th>\n",
       "      <td>10</td>\n",
       "      <td>31.43</td>\n",
       "      <td>36.58</td>\n",
       "    </tr>\n",
       "    <tr>\n",
       "      <th>5</th>\n",
       "      <td>9</td>\n",
       "      <td>32.65</td>\n",
       "      <td>37.27</td>\n",
       "    </tr>\n",
       "    <tr>\n",
       "      <th>4</th>\n",
       "      <td>8</td>\n",
       "      <td>33.85</td>\n",
       "      <td>37.97</td>\n",
       "    </tr>\n",
       "    <tr>\n",
       "      <th>3</th>\n",
       "      <td>7</td>\n",
       "      <td>35.02</td>\n",
       "      <td>39.07</td>\n",
       "    </tr>\n",
       "    <tr>\n",
       "      <th>2</th>\n",
       "      <td>6</td>\n",
       "      <td>36.23</td>\n",
       "      <td>40.34</td>\n",
       "    </tr>\n",
       "    <tr>\n",
       "      <th>1</th>\n",
       "      <td>5</td>\n",
       "      <td>37.35</td>\n",
       "      <td>41.59</td>\n",
       "    </tr>\n",
       "    <tr>\n",
       "      <th>0</th>\n",
       "      <td>4</td>\n",
       "      <td>38.56</td>\n",
       "      <td>43.03</td>\n",
       "    </tr>\n",
       "  </tbody>\n",
       "</table>\n",
       "</div>"
      ],
      "text/plain": [
       "    max_depths  train_score  val_score\n",
       "10          14        27.46      36.07\n",
       "11          15        26.81      36.08\n",
       "9           13        28.25      36.08\n",
       "8           12        29.22      36.09\n",
       "12          16        26.27      36.15\n",
       "13          17        25.88      36.20\n",
       "14          18        25.59      36.21\n",
       "15          19        25.39      36.23\n",
       "16          20        25.28      36.23\n",
       "7           11        30.26      36.33\n",
       "6           10        31.43      36.58\n",
       "5            9        32.65      37.27\n",
       "4            8        33.85      37.97\n",
       "3            7        35.02      39.07\n",
       "2            6        36.23      40.34\n",
       "1            5        37.35      41.59\n",
       "0            4        38.56      43.03"
      ]
     },
     "execution_count": 81,
     "metadata": {},
     "output_type": "execute_result"
    }
   ],
   "source": [
    "# Randomforest hyperparameter tuning - max_depth\n",
    "train_hp_tuning_score,  val_hp_tuning_score= [], []\n",
    "max_depths = [4,5,6,7,8,9,10,11,12,13,14,15,16,17,18,19,20]\n",
    "\n",
    "for max_depth in tqdm(max_depths):\n",
    "    \n",
    "    # RandomForest Regression model\n",
    "    model_pipeline = \\\n",
    "    Pipeline([('Scaler', StandardScaler()), \n",
    "              ('model', RandomForestRegressor(n_estimators = 600,\n",
    "                                              criterion = \"squared_error\",\n",
    "                                              max_features = 5,\n",
    "                                              max_depth = max_depth,\n",
    "                                              min_samples_leaf = 3,\n",
    "                                              n_jobs = -1,\n",
    "                                              random_state = 123))\n",
    "             ])\n",
    "\n",
    "    # fit model\n",
    "    model = model_pipeline.fit(X_train, y_train)\n",
    "\n",
    "    # making prediction\n",
    "    train_pred = np.around(model.predict(X_train),0).astype(int)\n",
    "    val_pred = np.around(model.predict(X_val),0).astype(int)\n",
    "\n",
    "    # calculating score\n",
    "    train_score = np.sqrt(mean_squared_error(y_train, train_pred))\n",
    "    val_score = np.sqrt(mean_squared_error(y_val, val_pred))\n",
    "\n",
    "    # storing results\n",
    "    train_hp_tuning_score.append(train_score)   \n",
    "    val_hp_tuning_score.append(val_score)\n",
    "\n",
    "# creating results dataframe\n",
    "hp_results_df = \\\n",
    "pd.DataFrame(\n",
    "    {\"max_depths\":max_depths, \n",
    "     \"train_score\":train_hp_tuning_score, \n",
    "     \"val_score\":val_hp_tuning_score})\n",
    "hp_results_df.sort_values(by = \"val_score\")"
   ]
  },
  {
   "cell_type": "markdown",
   "id": "a606a033-6df2-4007-a1a0-b2362b0c1aa8",
   "metadata": {},
   "source": [
    "#### min_samples_leaf"
   ]
  },
  {
   "cell_type": "code",
   "execution_count": 82,
   "id": "21cce12f-d405-40b6-b355-f34ae5cd30f1",
   "metadata": {},
   "outputs": [
    {
     "name": "stderr",
     "output_type": "stream",
     "text": [
      "100%|██████████| 18/18 [00:51<00:00,  2.86s/it]\n"
     ]
    },
    {
     "data": {
      "text/html": [
       "<div>\n",
       "<style scoped>\n",
       "    .dataframe tbody tr th:only-of-type {\n",
       "        vertical-align: middle;\n",
       "    }\n",
       "\n",
       "    .dataframe tbody tr th {\n",
       "        vertical-align: top;\n",
       "    }\n",
       "\n",
       "    .dataframe thead th {\n",
       "        text-align: right;\n",
       "    }\n",
       "</style>\n",
       "<table border=\"1\" class=\"dataframe\">\n",
       "  <thead>\n",
       "    <tr style=\"text-align: right;\">\n",
       "      <th></th>\n",
       "      <th>min_samples_leafs</th>\n",
       "      <th>train_score</th>\n",
       "      <th>val_score</th>\n",
       "    </tr>\n",
       "  </thead>\n",
       "  <tbody>\n",
       "    <tr>\n",
       "      <th>0</th>\n",
       "      <td>3</td>\n",
       "      <td>27.46</td>\n",
       "      <td>36.07</td>\n",
       "    </tr>\n",
       "    <tr>\n",
       "      <th>1</th>\n",
       "      <td>4</td>\n",
       "      <td>28.43</td>\n",
       "      <td>36.22</td>\n",
       "    </tr>\n",
       "    <tr>\n",
       "      <th>2</th>\n",
       "      <td>5</td>\n",
       "      <td>29.13</td>\n",
       "      <td>36.30</td>\n",
       "    </tr>\n",
       "    <tr>\n",
       "      <th>3</th>\n",
       "      <td>6</td>\n",
       "      <td>29.68</td>\n",
       "      <td>36.41</td>\n",
       "    </tr>\n",
       "    <tr>\n",
       "      <th>4</th>\n",
       "      <td>7</td>\n",
       "      <td>30.16</td>\n",
       "      <td>36.53</td>\n",
       "    </tr>\n",
       "    <tr>\n",
       "      <th>5</th>\n",
       "      <td>8</td>\n",
       "      <td>30.56</td>\n",
       "      <td>36.76</td>\n",
       "    </tr>\n",
       "    <tr>\n",
       "      <th>6</th>\n",
       "      <td>9</td>\n",
       "      <td>30.92</td>\n",
       "      <td>36.87</td>\n",
       "    </tr>\n",
       "    <tr>\n",
       "      <th>7</th>\n",
       "      <td>10</td>\n",
       "      <td>31.24</td>\n",
       "      <td>37.03</td>\n",
       "    </tr>\n",
       "    <tr>\n",
       "      <th>8</th>\n",
       "      <td>11</td>\n",
       "      <td>31.54</td>\n",
       "      <td>37.20</td>\n",
       "    </tr>\n",
       "    <tr>\n",
       "      <th>9</th>\n",
       "      <td>12</td>\n",
       "      <td>31.73</td>\n",
       "      <td>37.24</td>\n",
       "    </tr>\n",
       "    <tr>\n",
       "      <th>10</th>\n",
       "      <td>13</td>\n",
       "      <td>31.99</td>\n",
       "      <td>37.42</td>\n",
       "    </tr>\n",
       "    <tr>\n",
       "      <th>11</th>\n",
       "      <td>14</td>\n",
       "      <td>32.14</td>\n",
       "      <td>37.45</td>\n",
       "    </tr>\n",
       "    <tr>\n",
       "      <th>12</th>\n",
       "      <td>15</td>\n",
       "      <td>32.30</td>\n",
       "      <td>37.59</td>\n",
       "    </tr>\n",
       "    <tr>\n",
       "      <th>13</th>\n",
       "      <td>16</td>\n",
       "      <td>32.49</td>\n",
       "      <td>37.65</td>\n",
       "    </tr>\n",
       "    <tr>\n",
       "      <th>14</th>\n",
       "      <td>17</td>\n",
       "      <td>32.65</td>\n",
       "      <td>37.79</td>\n",
       "    </tr>\n",
       "    <tr>\n",
       "      <th>15</th>\n",
       "      <td>18</td>\n",
       "      <td>32.79</td>\n",
       "      <td>37.94</td>\n",
       "    </tr>\n",
       "    <tr>\n",
       "      <th>16</th>\n",
       "      <td>19</td>\n",
       "      <td>32.93</td>\n",
       "      <td>38.05</td>\n",
       "    </tr>\n",
       "    <tr>\n",
       "      <th>17</th>\n",
       "      <td>20</td>\n",
       "      <td>33.02</td>\n",
       "      <td>38.15</td>\n",
       "    </tr>\n",
       "  </tbody>\n",
       "</table>\n",
       "</div>"
      ],
      "text/plain": [
       "    min_samples_leafs  train_score  val_score\n",
       "0                   3        27.46      36.07\n",
       "1                   4        28.43      36.22\n",
       "2                   5        29.13      36.30\n",
       "3                   6        29.68      36.41\n",
       "4                   7        30.16      36.53\n",
       "5                   8        30.56      36.76\n",
       "6                   9        30.92      36.87\n",
       "7                  10        31.24      37.03\n",
       "8                  11        31.54      37.20\n",
       "9                  12        31.73      37.24\n",
       "10                 13        31.99      37.42\n",
       "11                 14        32.14      37.45\n",
       "12                 15        32.30      37.59\n",
       "13                 16        32.49      37.65\n",
       "14                 17        32.65      37.79\n",
       "15                 18        32.79      37.94\n",
       "16                 19        32.93      38.05\n",
       "17                 20        33.02      38.15"
      ]
     },
     "execution_count": 82,
     "metadata": {},
     "output_type": "execute_result"
    }
   ],
   "source": [
    "# Randomforest hyperparameter tuning - min_samples_leaf\n",
    "train_hp_tuning_score,  val_hp_tuning_score= [], []\n",
    "min_samples_leafs = [3,4,5,6,7,8,9,10,11,12,13,14,15,16,17,18,19,20]\n",
    "\n",
    "for min_samples_leaf in tqdm(min_samples_leafs):\n",
    "    \n",
    "    # RandomForest Regression model\n",
    "    model_pipeline = \\\n",
    "    Pipeline([('Scaler', StandardScaler()), \n",
    "              ('model', RandomForestRegressor(n_estimators = 600,\n",
    "                                              criterion = \"squared_error\",\n",
    "                                              max_features = 5,\n",
    "                                              max_depth = 14,\n",
    "                                              min_samples_leaf = min_samples_leaf,\n",
    "                                              n_jobs = -1,\n",
    "                                              random_state = 123))\n",
    "             ])\n",
    "\n",
    "    # fit model\n",
    "    model = model_pipeline.fit(X_train, y_train)\n",
    "\n",
    "    # making prediction\n",
    "    train_pred = np.around(model.predict(X_train),0).astype(int)\n",
    "    val_pred = np.around(model.predict(X_val),0).astype(int)\n",
    "\n",
    "    # calculating score\n",
    "    train_score = np.sqrt(mean_squared_error(y_train, train_pred))\n",
    "    val_score = np.sqrt(mean_squared_error(y_val, val_pred))\n",
    "\n",
    "    # storing results\n",
    "    train_hp_tuning_score.append(train_score)   \n",
    "    val_hp_tuning_score.append(val_score)\n",
    "\n",
    "# creating results dataframe\n",
    "hp_results_df = \\\n",
    "pd.DataFrame(\n",
    "    {\"min_samples_leafs\":min_samples_leafs, \n",
    "     \"train_score\":train_hp_tuning_score, \n",
    "     \"val_score\":val_hp_tuning_score})\n",
    "hp_results_df.sort_values(by = \"val_score\")"
   ]
  },
  {
   "cell_type": "markdown",
   "id": "32017d4d-573d-491a-bebe-9e2380063f36",
   "metadata": {},
   "source": [
    "#### min_samples_split"
   ]
  },
  {
   "cell_type": "code",
   "execution_count": 83,
   "id": "5ff5689b-661a-4fed-8df1-542369c3d454",
   "metadata": {},
   "outputs": [
    {
     "name": "stderr",
     "output_type": "stream",
     "text": [
      "100%|██████████| 19/19 [01:50<00:00,  5.81s/it]\n"
     ]
    },
    {
     "data": {
      "text/html": [
       "<div>\n",
       "<style scoped>\n",
       "    .dataframe tbody tr th:only-of-type {\n",
       "        vertical-align: middle;\n",
       "    }\n",
       "\n",
       "    .dataframe tbody tr th {\n",
       "        vertical-align: top;\n",
       "    }\n",
       "\n",
       "    .dataframe thead th {\n",
       "        text-align: right;\n",
       "    }\n",
       "</style>\n",
       "<table border=\"1\" class=\"dataframe\">\n",
       "  <thead>\n",
       "    <tr style=\"text-align: right;\">\n",
       "      <th></th>\n",
       "      <th>min_samples_splits</th>\n",
       "      <th>train_score</th>\n",
       "      <th>val_score</th>\n",
       "    </tr>\n",
       "  </thead>\n",
       "  <tbody>\n",
       "    <tr>\n",
       "      <th>5</th>\n",
       "      <td>7</td>\n",
       "      <td>27.66</td>\n",
       "      <td>36.03</td>\n",
       "    </tr>\n",
       "    <tr>\n",
       "      <th>0</th>\n",
       "      <td>2</td>\n",
       "      <td>27.46</td>\n",
       "      <td>36.07</td>\n",
       "    </tr>\n",
       "    <tr>\n",
       "      <th>1</th>\n",
       "      <td>3</td>\n",
       "      <td>27.46</td>\n",
       "      <td>36.07</td>\n",
       "    </tr>\n",
       "    <tr>\n",
       "      <th>2</th>\n",
       "      <td>4</td>\n",
       "      <td>27.46</td>\n",
       "      <td>36.07</td>\n",
       "    </tr>\n",
       "    <tr>\n",
       "      <th>3</th>\n",
       "      <td>5</td>\n",
       "      <td>27.46</td>\n",
       "      <td>36.07</td>\n",
       "    </tr>\n",
       "    <tr>\n",
       "      <th>4</th>\n",
       "      <td>6</td>\n",
       "      <td>27.46</td>\n",
       "      <td>36.07</td>\n",
       "    </tr>\n",
       "    <tr>\n",
       "      <th>6</th>\n",
       "      <td>8</td>\n",
       "      <td>27.90</td>\n",
       "      <td>36.17</td>\n",
       "    </tr>\n",
       "    <tr>\n",
       "      <th>8</th>\n",
       "      <td>10</td>\n",
       "      <td>28.42</td>\n",
       "      <td>36.19</td>\n",
       "    </tr>\n",
       "    <tr>\n",
       "      <th>7</th>\n",
       "      <td>9</td>\n",
       "      <td>28.14</td>\n",
       "      <td>36.20</td>\n",
       "    </tr>\n",
       "    <tr>\n",
       "      <th>9</th>\n",
       "      <td>11</td>\n",
       "      <td>28.63</td>\n",
       "      <td>36.31</td>\n",
       "    </tr>\n",
       "    <tr>\n",
       "      <th>10</th>\n",
       "      <td>12</td>\n",
       "      <td>28.89</td>\n",
       "      <td>36.35</td>\n",
       "    </tr>\n",
       "    <tr>\n",
       "      <th>11</th>\n",
       "      <td>13</td>\n",
       "      <td>29.05</td>\n",
       "      <td>36.36</td>\n",
       "    </tr>\n",
       "    <tr>\n",
       "      <th>12</th>\n",
       "      <td>14</td>\n",
       "      <td>29.23</td>\n",
       "      <td>36.44</td>\n",
       "    </tr>\n",
       "    <tr>\n",
       "      <th>13</th>\n",
       "      <td>15</td>\n",
       "      <td>29.37</td>\n",
       "      <td>36.46</td>\n",
       "    </tr>\n",
       "    <tr>\n",
       "      <th>14</th>\n",
       "      <td>16</td>\n",
       "      <td>29.54</td>\n",
       "      <td>36.50</td>\n",
       "    </tr>\n",
       "    <tr>\n",
       "      <th>15</th>\n",
       "      <td>17</td>\n",
       "      <td>29.67</td>\n",
       "      <td>36.53</td>\n",
       "    </tr>\n",
       "    <tr>\n",
       "      <th>17</th>\n",
       "      <td>19</td>\n",
       "      <td>29.98</td>\n",
       "      <td>36.64</td>\n",
       "    </tr>\n",
       "    <tr>\n",
       "      <th>16</th>\n",
       "      <td>18</td>\n",
       "      <td>29.82</td>\n",
       "      <td>36.65</td>\n",
       "    </tr>\n",
       "    <tr>\n",
       "      <th>18</th>\n",
       "      <td>20</td>\n",
       "      <td>30.08</td>\n",
       "      <td>36.75</td>\n",
       "    </tr>\n",
       "  </tbody>\n",
       "</table>\n",
       "</div>"
      ],
      "text/plain": [
       "    min_samples_splits  train_score  val_score\n",
       "5                    7        27.66      36.03\n",
       "0                    2        27.46      36.07\n",
       "1                    3        27.46      36.07\n",
       "2                    4        27.46      36.07\n",
       "3                    5        27.46      36.07\n",
       "4                    6        27.46      36.07\n",
       "6                    8        27.90      36.17\n",
       "8                   10        28.42      36.19\n",
       "7                    9        28.14      36.20\n",
       "9                   11        28.63      36.31\n",
       "10                  12        28.89      36.35\n",
       "11                  13        29.05      36.36\n",
       "12                  14        29.23      36.44\n",
       "13                  15        29.37      36.46\n",
       "14                  16        29.54      36.50\n",
       "15                  17        29.67      36.53\n",
       "17                  19        29.98      36.64\n",
       "16                  18        29.82      36.65\n",
       "18                  20        30.08      36.75"
      ]
     },
     "execution_count": 83,
     "metadata": {},
     "output_type": "execute_result"
    }
   ],
   "source": [
    "# Randomforest hyperparameter tuning - min_samples_split\n",
    "train_hp_tuning_score,  val_hp_tuning_score= [], []\n",
    "min_samples_splits = [2,3,4,5,6,7,8,9,10,11,12,13,14,15,16,17,18,19,20]\n",
    "\n",
    "for min_samples_split in tqdm(min_samples_splits):\n",
    "    \n",
    "    # RandomForest Regression model\n",
    "    model_pipeline = \\\n",
    "    Pipeline([('Scaler', StandardScaler()), \n",
    "              ('model', RandomForestRegressor(n_estimators = 600,\n",
    "                                              criterion = \"squared_error\",\n",
    "                                              max_features = 5,\n",
    "                                              max_depth = 14,\n",
    "                                              min_samples_leaf = 3,\n",
    "                                              min_samples_split = min_samples_split,\n",
    "                                              n_jobs = -1,\n",
    "                                              random_state = 123))\n",
    "             ])\n",
    "\n",
    "    # fit model\n",
    "    model = model_pipeline.fit(X_train, y_train)\n",
    "\n",
    "    # making prediction\n",
    "    train_pred = np.around(model.predict(X_train),0).astype(int)\n",
    "    val_pred = np.around(model.predict(X_val),0).astype(int)\n",
    "\n",
    "    # calculating score\n",
    "    train_score = np.sqrt(mean_squared_error(y_train, train_pred))\n",
    "    val_score = np.sqrt(mean_squared_error(y_val, val_pred))\n",
    "\n",
    "    # storing results\n",
    "    train_hp_tuning_score.append(train_score)   \n",
    "    val_hp_tuning_score.append(val_score)\n",
    "\n",
    "# creating results dataframe\n",
    "hp_results_df = \\\n",
    "pd.DataFrame(\n",
    "    {\"min_samples_splits\":min_samples_splits, \n",
    "     \"train_score\":train_hp_tuning_score, \n",
    "     \"val_score\":val_hp_tuning_score})\n",
    "hp_results_df.sort_values(by = \"val_score\")"
   ]
  },
  {
   "cell_type": "markdown",
   "id": "38d8d443-8e98-4fe3-99a9-3667cd2ef7f0",
   "metadata": {},
   "source": [
    "#### criterion"
   ]
  },
  {
   "cell_type": "code",
   "execution_count": 84,
   "id": "f0e01d60-5b6e-40e4-9f34-80537310541a",
   "metadata": {},
   "outputs": [
    {
     "name": "stderr",
     "output_type": "stream",
     "text": [
      "100%|██████████| 3/3 [05:22<00:00, 107.49s/it]\n"
     ]
    },
    {
     "data": {
      "text/html": [
       "<div>\n",
       "<style scoped>\n",
       "    .dataframe tbody tr th:only-of-type {\n",
       "        vertical-align: middle;\n",
       "    }\n",
       "\n",
       "    .dataframe tbody tr th {\n",
       "        vertical-align: top;\n",
       "    }\n",
       "\n",
       "    .dataframe thead th {\n",
       "        text-align: right;\n",
       "    }\n",
       "</style>\n",
       "<table border=\"1\" class=\"dataframe\">\n",
       "  <thead>\n",
       "    <tr style=\"text-align: right;\">\n",
       "      <th></th>\n",
       "      <th>criterions</th>\n",
       "      <th>train_score</th>\n",
       "      <th>val_score</th>\n",
       "    </tr>\n",
       "  </thead>\n",
       "  <tbody>\n",
       "    <tr>\n",
       "      <th>0</th>\n",
       "      <td>squared_error</td>\n",
       "      <td>27.66</td>\n",
       "      <td>36.03</td>\n",
       "    </tr>\n",
       "    <tr>\n",
       "      <th>1</th>\n",
       "      <td>absolute_error</td>\n",
       "      <td>28.44</td>\n",
       "      <td>37.15</td>\n",
       "    </tr>\n",
       "    <tr>\n",
       "      <th>2</th>\n",
       "      <td>poisson</td>\n",
       "      <td>35.36</td>\n",
       "      <td>37.86</td>\n",
       "    </tr>\n",
       "  </tbody>\n",
       "</table>\n",
       "</div>"
      ],
      "text/plain": [
       "       criterions  train_score  val_score\n",
       "0   squared_error        27.66      36.03\n",
       "1  absolute_error        28.44      37.15\n",
       "2         poisson        35.36      37.86"
      ]
     },
     "execution_count": 84,
     "metadata": {},
     "output_type": "execute_result"
    }
   ],
   "source": [
    "# Randomforest hyperparameter tuning - criterion\n",
    "train_hp_tuning_score,  val_hp_tuning_score= [], []\n",
    "criterions = [\"squared_error\", \"absolute_error\", \"poisson\"]\n",
    "\n",
    "for criterion in tqdm(criterions):\n",
    "    \n",
    "    # RandomForest Regression model\n",
    "    model_pipeline = \\\n",
    "    Pipeline([('Scaler', StandardScaler()), \n",
    "              ('model', RandomForestRegressor(n_estimators = 600,\n",
    "                                              criterion = criterion,\n",
    "                                              max_features = 5,\n",
    "                                              max_depth = 14,\n",
    "                                              min_samples_leaf = 3,\n",
    "                                              min_samples_split = 7,\n",
    "                                              n_jobs = -1,\n",
    "                                              random_state = 123))\n",
    "             ])\n",
    "\n",
    "    # fit model\n",
    "    model = model_pipeline.fit(X_train, y_train)\n",
    "\n",
    "    # making prediction\n",
    "    train_pred = np.around(model.predict(X_train),0).astype(int)\n",
    "    val_pred = np.around(model.predict(X_val),0).astype(int)\n",
    "\n",
    "    # calculating score\n",
    "    train_score = np.sqrt(mean_squared_error(y_train, train_pred))\n",
    "    val_score = np.sqrt(mean_squared_error(y_val, val_pred))\n",
    "\n",
    "    # storing results\n",
    "    train_hp_tuning_score.append(train_score)   \n",
    "    val_hp_tuning_score.append(val_score)\n",
    "\n",
    "# creating results dataframe\n",
    "hp_results_df = \\\n",
    "pd.DataFrame(\n",
    "    {\"criterions\":criterions, \n",
    "     \"train_score\":train_hp_tuning_score, \n",
    "     \"val_score\":val_hp_tuning_score})\n",
    "hp_results_df.sort_values(by = \"val_score\")"
   ]
  },
  {
   "cell_type": "code",
   "execution_count": 87,
   "id": "51a81f7b-c6c7-4b0b-b25e-973d60e53518",
   "metadata": {},
   "outputs": [
    {
     "name": "stdout",
     "output_type": "stream",
     "text": [
      "training RMSE : 27.65692113326224\n",
      "validation RMSE : 36.02957609822109\n"
     ]
    }
   ],
   "source": [
    "# training with final set of hyperparameter\n",
    "# RandomForest Regression model\n",
    "model_pipeline = \\\n",
    "Pipeline([('Scaler', StandardScaler()), \n",
    "          ('model', RandomForestRegressor(n_estimators = 600,\n",
    "                                          criterion = \"squared_error\",\n",
    "                                          max_features = 5,\n",
    "                                          max_depth = 14,\n",
    "                                          min_samples_leaf = 3,\n",
    "                                          min_samples_split = 7,\n",
    "                                          n_jobs = -1,\n",
    "                                          random_state = 123))\n",
    "         ])\n",
    "\n",
    "# fit model\n",
    "model = model_pipeline.fit(X_train, y_train)\n",
    "\n",
    "# making prediction\n",
    "train_pred = np.around(model.predict(X_train),0).astype(int)\n",
    "val_pred = np.around(model.predict(X_val),0).astype(int)\n",
    "\n",
    "# calculating score\n",
    "train_score = np.sqrt(mean_squared_error(y_train, train_pred))\n",
    "val_score = np.sqrt(mean_squared_error(y_val, val_pred))\n",
    "print(\"training RMSE :\", train_score)\n",
    "print(\"validation RMSE :\", val_score)"
   ]
  },
  {
   "cell_type": "code",
   "execution_count": 88,
   "id": "c7d56676-5c26-4ac3-92df-5966fc9f26b3",
   "metadata": {},
   "outputs": [
    {
     "data": {
      "image/png": "[encoded data removed]",
      "text/plain": [
       "<Figure size 1440x720 with 1 Axes>"
      ]
     },
     "metadata": {
      "needs_background": "light"
     },
     "output_type": "display_data"
    }
   ],
   "source": [
    "# Feature importance plot\n",
    "importance = model.named_steps[\"model\"].feature_importances_.tolist()\n",
    "feature_list = X_train.columns.tolist()\n",
    "importance_df = pd.DataFrame()\n",
    "importance_df[\"Feature\"] = feature_list\n",
    "importance_df[\"Importance\"] = importance\n",
    "importance_df = importance_df.sort_values(by = \"Importance\", ascending = False)\n",
    "\n",
    "plt.figure(figsize = (20,10))\n",
    "plt.title(\"Feature Importance - RandomForest\")\n",
    "sns.barplot(x=\"Importance\", y=\"Feature\", data = importance_df);"
   ]
  },
  {
   "cell_type": "markdown",
   "id": "b29d89a6-8859-4fa8-a0e3-19387f3f7d7d",
   "metadata": {},
   "source": [
    "*****\n",
    "> **Random Forest Regressor** is found as most effective model with below set of hyperparameters:\n",
    "\n",
    "|Hyperparameter|value|\n",
    "|:------------:|:----:|\n",
    "|n_estimators|600|\n",
    "|criterion|squared_error|\n",
    "|max_features|5|\n",
    "|max_depth|14|\n",
    "|min_samples_leaf|3|\n",
    "|min_samples_split|7|\n",
    "|n_jobs|-1|\n",
    "|random_state|123|\n",
    "*****"
   ]
  },
  {
   "cell_type": "markdown",
   "id": "1b49176d-93a4-4a72-bdfe-6d39b1b1e6ee",
   "metadata": {},
   "source": [
    "## 6. <a name=\"6\">Final model</a>\n",
    "(<a href=\"#0\">Go to top</a>)\n",
    "\n",
    "Let's retrain with all samples using tuned Randomforest model."
   ]
  },
  {
   "cell_type": "code",
   "execution_count": 89,
   "id": "993c2c20-a59e-4ba6-9032-525f9463a2c3",
   "metadata": {},
   "outputs": [
    {
     "name": "stdout",
     "output_type": "stream",
     "text": [
      "Shape of X_train : (21480, 19)\n",
      "Shape of y_train : (21480,)\n"
     ]
    }
   ],
   "source": [
    "# Creating X and y\n",
    "X_train = train_new.drop([\"datetime\", \"demand\"], axis = 1)\n",
    "y_train = train_new[\"demand\"].values\n",
    "\n",
    "print(\"Shape of X_train :\", X_train.shape)\n",
    "print(\"Shape of y_train :\", y_train.shape)"
   ]
  },
  {
   "cell_type": "code",
   "execution_count": 90,
   "id": "2ee7d25b-40f1-499c-83d5-c130d7d32965",
   "metadata": {},
   "outputs": [
    {
     "name": "stdout",
     "output_type": "stream",
     "text": [
      "training RMSE : 27.960052309315603\n"
     ]
    }
   ],
   "source": [
    "# training with final set of hyperparameter\n",
    "# RandomForest Regression model\n",
    "model_pipeline = \\\n",
    "Pipeline([('Scaler', StandardScaler()), \n",
    "          ('model', RandomForestRegressor(n_estimators = 600,\n",
    "                                          criterion = \"squared_error\",\n",
    "                                          max_features = 5,\n",
    "                                          max_depth = 14,\n",
    "                                          min_samples_leaf = 3,\n",
    "                                          min_samples_split = 7,\n",
    "                                          n_jobs = -1,\n",
    "                                          random_state = 123))\n",
    "         ])\n",
    "\n",
    "# fit model\n",
    "model = model_pipeline.fit(X_train, y_train)\n",
    "\n",
    "# making prediction\n",
    "train_pred = np.around(model.predict(X_train),0).astype(int)\n",
    "\n",
    "# calculating score\n",
    "train_score = np.sqrt(mean_squared_error(y_train, train_pred))\n",
    "print(\"training RMSE :\", train_score)"
   ]
  },
  {
   "cell_type": "markdown",
   "id": "c30820fc-a8b4-4720-b1f1-c3ee9b0505bf",
   "metadata": {},
   "source": [
    "## 7. <a name=\"7\">Creating submission file</a>\n",
    "(<a href=\"#0\">Go to top</a>)\n",
    "\n",
    "Let's predict on test data and create submission file."
   ]
  },
  {
   "cell_type": "code",
   "execution_count": 93,
   "id": "c22ebc7c-555d-4aa9-8486-072f5c10d6ca",
   "metadata": {},
   "outputs": [
    {
     "name": "stdout",
     "output_type": "stream",
     "text": [
      "Shape of X_test : (7650, 19)\n"
     ]
    }
   ],
   "source": [
    "# Creating X and y\n",
    "X_test = test.drop([\"datetime\", \"date\", \"hour\"], axis = 1)\n",
    "print(\"Shape of X_test :\", X_test.shape)"
   ]
  },
  {
   "cell_type": "code",
   "execution_count": 95,
   "id": "d7b8cfa6-2164-417e-b92e-58a7aa5938ef",
   "metadata": {},
   "outputs": [],
   "source": [
    "# making prediction\n",
    "test_pred = np.around(model.predict(X_test),0).astype(int)"
   ]
  },
  {
   "cell_type": "code",
   "execution_count": 97,
   "id": "32d87364-ba0e-4e87-bf1e-4d1aa0d3d48d",
   "metadata": {},
   "outputs": [
    {
     "data": {
      "text/html": [
       "<div>\n",
       "<style scoped>\n",
       "    .dataframe tbody tr th:only-of-type {\n",
       "        vertical-align: middle;\n",
       "    }\n",
       "\n",
       "    .dataframe tbody tr th {\n",
       "        vertical-align: top;\n",
       "    }\n",
       "\n",
       "    .dataframe thead th {\n",
       "        text-align: right;\n",
       "    }\n",
       "</style>\n",
       "<table border=\"1\" class=\"dataframe\">\n",
       "  <thead>\n",
       "    <tr style=\"text-align: right;\">\n",
       "      <th></th>\n",
       "      <th>date</th>\n",
       "      <th>hour</th>\n",
       "      <th>demand</th>\n",
       "    </tr>\n",
       "  </thead>\n",
       "  <tbody>\n",
       "    <tr>\n",
       "      <th>0</th>\n",
       "      <td>2021-03-01</td>\n",
       "      <td>0</td>\n",
       "      <td>56</td>\n",
       "    </tr>\n",
       "    <tr>\n",
       "      <th>1</th>\n",
       "      <td>2021-03-01</td>\n",
       "      <td>1</td>\n",
       "      <td>42</td>\n",
       "    </tr>\n",
       "    <tr>\n",
       "      <th>2</th>\n",
       "      <td>2021-03-01</td>\n",
       "      <td>2</td>\n",
       "      <td>39</td>\n",
       "    </tr>\n",
       "    <tr>\n",
       "      <th>3</th>\n",
       "      <td>2021-03-01</td>\n",
       "      <td>3</td>\n",
       "      <td>33</td>\n",
       "    </tr>\n",
       "    <tr>\n",
       "      <th>4</th>\n",
       "      <td>2021-03-01</td>\n",
       "      <td>5</td>\n",
       "      <td>34</td>\n",
       "    </tr>\n",
       "  </tbody>\n",
       "</table>\n",
       "</div>"
      ],
      "text/plain": [
       "         date  hour  demand\n",
       "0  2021-03-01     0      56\n",
       "1  2021-03-01     1      42\n",
       "2  2021-03-01     2      39\n",
       "3  2021-03-01     3      33\n",
       "4  2021-03-01     5      34"
      ]
     },
     "execution_count": 97,
     "metadata": {},
     "output_type": "execute_result"
    }
   ],
   "source": [
    "# merging prediction into test data\n",
    "test[\"demand\"] = test_pred\n",
    "submission_file = test[[\"date\", \"hour\", \"demand\"]]\n",
    "submission_file.head()"
   ]
  },
  {
   "cell_type": "code",
   "execution_count": 98,
   "id": "477e8691-3010-48bc-b97f-27dd963cd39f",
   "metadata": {},
   "outputs": [],
   "source": [
    "# creating submission file\n",
    "submission_file.to_csv('../output/submission_v1.csv', index = False)"
   ]
  }
 ],
 "metadata": {
  "kernelspec": {
   "display_name": "av-jobathon-apr-2022:Python",
   "language": "python",
   "name": "conda-env-av-jobathon-apr-2022-py"
  },
  "language_info": {
   "codemirror_mode": {
    "name": "ipython",
    "version": 3
   },
   "file_extension": ".py",
   "mimetype": "text/x-python",
   "name": "python",
   "nbconvert_exporter": "python",
   "pygments_lexer": "ipython3",
   "version": "3.9.12"
  }
 },
 "nbformat": 4,
 "nbformat_minor": 5
}
